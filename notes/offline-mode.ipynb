{
 "cells": [
  {
   "cell_type": "code",
   "execution_count": 1,
   "metadata": {},
   "outputs": [],
   "source": [
    "import torch\n",
    "from transformers import T5Tokenizer, AutoModelForCausalLM\n",
    "\n",
    "class Generator():\n",
    "    def __init__(self, model_name = \"rinna/japanese-gpt-1b\"):\n",
    "        self.tokenizer = T5Tokenizer.from_pretrained(model_name)\n",
    "        self.model = AutoModelForCausalLM.from_pretrained(model_name)\n",
    "        # if torch.cuda.is_available():\n",
    "        #     self.model = self.model.to(\"cuda\")\n",
    "\n",
    "    def gen(self, text: str, max_length=100):\n",
    "        token_ids = self.tokenizer.encode(text, add_special_tokens=False, return_tensors=\"pt\")\n",
    "\n",
    "        with torch.no_grad():\n",
    "            output_ids = self.model.generate(\n",
    "                token_ids.to(self.model.device),\n",
    "                max_length=max_length,\n",
    "                do_sample=True,\n",
    "                top_k=500,\n",
    "                top_p=0.95,\n",
    "                pad_token_id=self.tokenizer.pad_token_id,\n",
    "                bos_token_id=self.tokenizer.bos_token_id,\n",
    "                eos_token_id=self.tokenizer.eos_token_id,\n",
    "                bad_word_ids=[[self.tokenizer.unk_token_id]]\n",
    "            )\n",
    "        output = self.tokenizer.decode(output_ids.tolist()[0])\n",
    "        return output\n"
   ]
  },
  {
   "cell_type": "code",
   "execution_count": 6,
   "metadata": {},
   "outputs": [
    {
     "ename": "ValueError",
     "evalue": "Connection error, and we cannot find the requested files in the cached path. Please try again or make sure your Internet connection is on.",
     "output_type": "error",
     "traceback": [
      "\u001b[0;31m---------------------------------------------------------------------------\u001b[0m",
      "\u001b[0;31mValueError\u001b[0m                                Traceback (most recent call last)",
      "\u001b[1;32m/app/notes/index.ipynb Cell 2'\u001b[0m in \u001b[0;36m<module>\u001b[0;34m\u001b[0m\n\u001b[0;32m----> <a href='vscode-notebook-cell://attached-container%2B7b22636f6e7461696e65724e616d65223a222f6770745f6563636f5f73616e64626f785f6170705f31227d/app/notes/index.ipynb#ch0000002vscode-remote?line=0'>1</a>\u001b[0m generator \u001b[39m=\u001b[39m Generator(model_name\u001b[39m=\u001b[39;49m\u001b[39m\"\u001b[39;49m\u001b[39mrinna/japanese-gpt2-medium\u001b[39;49m\u001b[39m\"\u001b[39;49m)\n\u001b[1;32m      <a href='vscode-notebook-cell://attached-container%2B7b22636f6e7461696e65724e616d65223a222f6770745f6563636f5f73616e64626f785f6170705f31227d/app/notes/index.ipynb#ch0000002vscode-remote?line=1'>2</a>\u001b[0m generator\u001b[39m.\u001b[39mgen(\u001b[39m\"\u001b[39m\u001b[39m吾輩は猫である。名前は\u001b[39m\u001b[39m\"\u001b[39m)\n",
      "\u001b[1;32m/app/notes/index.ipynb Cell 1'\u001b[0m in \u001b[0;36mGenerator.__init__\u001b[0;34m(self, model_name)\u001b[0m\n\u001b[1;32m      <a href='vscode-notebook-cell://attached-container%2B7b22636f6e7461696e65724e616d65223a222f6770745f6563636f5f73616e64626f785f6170705f31227d/app/notes/index.ipynb#ch0000001vscode-remote?line=4'>5</a>\u001b[0m \u001b[39mdef\u001b[39;00m \u001b[39m__init__\u001b[39m(\u001b[39mself\u001b[39m, model_name \u001b[39m=\u001b[39m \u001b[39m\"\u001b[39m\u001b[39mrinna/japanese-gpt-1b\u001b[39m\u001b[39m\"\u001b[39m):\n\u001b[0;32m----> <a href='vscode-notebook-cell://attached-container%2B7b22636f6e7461696e65724e616d65223a222f6770745f6563636f5f73616e64626f785f6170705f31227d/app/notes/index.ipynb#ch0000001vscode-remote?line=5'>6</a>\u001b[0m     \u001b[39mself\u001b[39m\u001b[39m.\u001b[39mtokenizer \u001b[39m=\u001b[39m T5Tokenizer\u001b[39m.\u001b[39;49mfrom_pretrained(model_name)\n\u001b[1;32m      <a href='vscode-notebook-cell://attached-container%2B7b22636f6e7461696e65724e616d65223a222f6770745f6563636f5f73616e64626f785f6170705f31227d/app/notes/index.ipynb#ch0000001vscode-remote?line=6'>7</a>\u001b[0m     \u001b[39mself\u001b[39m\u001b[39m.\u001b[39mmodel \u001b[39m=\u001b[39m AutoModelForCausalLM\u001b[39m.\u001b[39mfrom_pretrained(model_name)\n",
      "File \u001b[0;32m~/.cache/pypoetry/virtualenvs/gpt-ecco-sandbox-9TtSrW0h-py3.9/lib/python3.9/site-packages/transformers/tokenization_utils_base.py:1707\u001b[0m, in \u001b[0;36mPreTrainedTokenizerBase.from_pretrained\u001b[0;34m(cls, pretrained_model_name_or_path, *init_inputs, **kwargs)\u001b[0m\n\u001b[1;32m   <a href='file:///~/.cache/pypoetry/virtualenvs/gpt-ecco-sandbox-9TtSrW0h-py3.9/lib/python3.9/site-packages/transformers/tokenization_utils_base.py?line=1704'>1705</a>\u001b[0m \u001b[39melse\u001b[39;00m:\n\u001b[1;32m   <a href='file:///~/.cache/pypoetry/virtualenvs/gpt-ecco-sandbox-9TtSrW0h-py3.9/lib/python3.9/site-packages/transformers/tokenization_utils_base.py?line=1705'>1706</a>\u001b[0m     \u001b[39mtry\u001b[39;00m:\n\u001b[0;32m-> <a href='file:///~/.cache/pypoetry/virtualenvs/gpt-ecco-sandbox-9TtSrW0h-py3.9/lib/python3.9/site-packages/transformers/tokenization_utils_base.py?line=1706'>1707</a>\u001b[0m         resolved_vocab_files[file_id] \u001b[39m=\u001b[39m cached_path(\n\u001b[1;32m   <a href='file:///~/.cache/pypoetry/virtualenvs/gpt-ecco-sandbox-9TtSrW0h-py3.9/lib/python3.9/site-packages/transformers/tokenization_utils_base.py?line=1707'>1708</a>\u001b[0m             file_path,\n\u001b[1;32m   <a href='file:///~/.cache/pypoetry/virtualenvs/gpt-ecco-sandbox-9TtSrW0h-py3.9/lib/python3.9/site-packages/transformers/tokenization_utils_base.py?line=1708'>1709</a>\u001b[0m             cache_dir\u001b[39m=\u001b[39;49mcache_dir,\n\u001b[1;32m   <a href='file:///~/.cache/pypoetry/virtualenvs/gpt-ecco-sandbox-9TtSrW0h-py3.9/lib/python3.9/site-packages/transformers/tokenization_utils_base.py?line=1709'>1710</a>\u001b[0m             force_download\u001b[39m=\u001b[39;49mforce_download,\n\u001b[1;32m   <a href='file:///~/.cache/pypoetry/virtualenvs/gpt-ecco-sandbox-9TtSrW0h-py3.9/lib/python3.9/site-packages/transformers/tokenization_utils_base.py?line=1710'>1711</a>\u001b[0m             proxies\u001b[39m=\u001b[39;49mproxies,\n\u001b[1;32m   <a href='file:///~/.cache/pypoetry/virtualenvs/gpt-ecco-sandbox-9TtSrW0h-py3.9/lib/python3.9/site-packages/transformers/tokenization_utils_base.py?line=1711'>1712</a>\u001b[0m             resume_download\u001b[39m=\u001b[39;49mresume_download,\n\u001b[1;32m   <a href='file:///~/.cache/pypoetry/virtualenvs/gpt-ecco-sandbox-9TtSrW0h-py3.9/lib/python3.9/site-packages/transformers/tokenization_utils_base.py?line=1712'>1713</a>\u001b[0m             local_files_only\u001b[39m=\u001b[39;49mlocal_files_only,\n\u001b[1;32m   <a href='file:///~/.cache/pypoetry/virtualenvs/gpt-ecco-sandbox-9TtSrW0h-py3.9/lib/python3.9/site-packages/transformers/tokenization_utils_base.py?line=1713'>1714</a>\u001b[0m             use_auth_token\u001b[39m=\u001b[39;49muse_auth_token,\n\u001b[1;32m   <a href='file:///~/.cache/pypoetry/virtualenvs/gpt-ecco-sandbox-9TtSrW0h-py3.9/lib/python3.9/site-packages/transformers/tokenization_utils_base.py?line=1714'>1715</a>\u001b[0m             user_agent\u001b[39m=\u001b[39;49muser_agent,\n\u001b[1;32m   <a href='file:///~/.cache/pypoetry/virtualenvs/gpt-ecco-sandbox-9TtSrW0h-py3.9/lib/python3.9/site-packages/transformers/tokenization_utils_base.py?line=1715'>1716</a>\u001b[0m         )\n\u001b[1;32m   <a href='file:///~/.cache/pypoetry/virtualenvs/gpt-ecco-sandbox-9TtSrW0h-py3.9/lib/python3.9/site-packages/transformers/tokenization_utils_base.py?line=1717'>1718</a>\u001b[0m     \u001b[39mexcept\u001b[39;00m \u001b[39mFileNotFoundError\u001b[39;00m \u001b[39mas\u001b[39;00m error:\n\u001b[1;32m   <a href='file:///~/.cache/pypoetry/virtualenvs/gpt-ecco-sandbox-9TtSrW0h-py3.9/lib/python3.9/site-packages/transformers/tokenization_utils_base.py?line=1718'>1719</a>\u001b[0m         \u001b[39mif\u001b[39;00m local_files_only:\n",
      "File \u001b[0;32m~/.cache/pypoetry/virtualenvs/gpt-ecco-sandbox-9TtSrW0h-py3.9/lib/python3.9/site-packages/transformers/file_utils.py:1846\u001b[0m, in \u001b[0;36mcached_path\u001b[0;34m(url_or_filename, cache_dir, force_download, proxies, resume_download, user_agent, extract_compressed_file, force_extract, use_auth_token, local_files_only)\u001b[0m\n\u001b[1;32m   <a href='file:///~/.cache/pypoetry/virtualenvs/gpt-ecco-sandbox-9TtSrW0h-py3.9/lib/python3.9/site-packages/transformers/file_utils.py?line=1841'>1842</a>\u001b[0m     local_files_only \u001b[39m=\u001b[39m \u001b[39mTrue\u001b[39;00m\n\u001b[1;32m   <a href='file:///~/.cache/pypoetry/virtualenvs/gpt-ecco-sandbox-9TtSrW0h-py3.9/lib/python3.9/site-packages/transformers/file_utils.py?line=1843'>1844</a>\u001b[0m \u001b[39mif\u001b[39;00m is_remote_url(url_or_filename):\n\u001b[1;32m   <a href='file:///~/.cache/pypoetry/virtualenvs/gpt-ecco-sandbox-9TtSrW0h-py3.9/lib/python3.9/site-packages/transformers/file_utils.py?line=1844'>1845</a>\u001b[0m     \u001b[39m# URL, so get it from the cache (downloading if necessary)\u001b[39;00m\n\u001b[0;32m-> <a href='file:///~/.cache/pypoetry/virtualenvs/gpt-ecco-sandbox-9TtSrW0h-py3.9/lib/python3.9/site-packages/transformers/file_utils.py?line=1845'>1846</a>\u001b[0m     output_path \u001b[39m=\u001b[39m get_from_cache(\n\u001b[1;32m   <a href='file:///~/.cache/pypoetry/virtualenvs/gpt-ecco-sandbox-9TtSrW0h-py3.9/lib/python3.9/site-packages/transformers/file_utils.py?line=1846'>1847</a>\u001b[0m         url_or_filename,\n\u001b[1;32m   <a href='file:///~/.cache/pypoetry/virtualenvs/gpt-ecco-sandbox-9TtSrW0h-py3.9/lib/python3.9/site-packages/transformers/file_utils.py?line=1847'>1848</a>\u001b[0m         cache_dir\u001b[39m=\u001b[39;49mcache_dir,\n\u001b[1;32m   <a href='file:///~/.cache/pypoetry/virtualenvs/gpt-ecco-sandbox-9TtSrW0h-py3.9/lib/python3.9/site-packages/transformers/file_utils.py?line=1848'>1849</a>\u001b[0m         force_download\u001b[39m=\u001b[39;49mforce_download,\n\u001b[1;32m   <a href='file:///~/.cache/pypoetry/virtualenvs/gpt-ecco-sandbox-9TtSrW0h-py3.9/lib/python3.9/site-packages/transformers/file_utils.py?line=1849'>1850</a>\u001b[0m         proxies\u001b[39m=\u001b[39;49mproxies,\n\u001b[1;32m   <a href='file:///~/.cache/pypoetry/virtualenvs/gpt-ecco-sandbox-9TtSrW0h-py3.9/lib/python3.9/site-packages/transformers/file_utils.py?line=1850'>1851</a>\u001b[0m         resume_download\u001b[39m=\u001b[39;49mresume_download,\n\u001b[1;32m   <a href='file:///~/.cache/pypoetry/virtualenvs/gpt-ecco-sandbox-9TtSrW0h-py3.9/lib/python3.9/site-packages/transformers/file_utils.py?line=1851'>1852</a>\u001b[0m         user_agent\u001b[39m=\u001b[39;49muser_agent,\n\u001b[1;32m   <a href='file:///~/.cache/pypoetry/virtualenvs/gpt-ecco-sandbox-9TtSrW0h-py3.9/lib/python3.9/site-packages/transformers/file_utils.py?line=1852'>1853</a>\u001b[0m         use_auth_token\u001b[39m=\u001b[39;49muse_auth_token,\n\u001b[1;32m   <a href='file:///~/.cache/pypoetry/virtualenvs/gpt-ecco-sandbox-9TtSrW0h-py3.9/lib/python3.9/site-packages/transformers/file_utils.py?line=1853'>1854</a>\u001b[0m         local_files_only\u001b[39m=\u001b[39;49mlocal_files_only,\n\u001b[1;32m   <a href='file:///~/.cache/pypoetry/virtualenvs/gpt-ecco-sandbox-9TtSrW0h-py3.9/lib/python3.9/site-packages/transformers/file_utils.py?line=1854'>1855</a>\u001b[0m     )\n\u001b[1;32m   <a href='file:///~/.cache/pypoetry/virtualenvs/gpt-ecco-sandbox-9TtSrW0h-py3.9/lib/python3.9/site-packages/transformers/file_utils.py?line=1855'>1856</a>\u001b[0m \u001b[39melif\u001b[39;00m os\u001b[39m.\u001b[39mpath\u001b[39m.\u001b[39mexists(url_or_filename):\n\u001b[1;32m   <a href='file:///~/.cache/pypoetry/virtualenvs/gpt-ecco-sandbox-9TtSrW0h-py3.9/lib/python3.9/site-packages/transformers/file_utils.py?line=1856'>1857</a>\u001b[0m     \u001b[39m# File, and it exists.\u001b[39;00m\n\u001b[1;32m   <a href='file:///~/.cache/pypoetry/virtualenvs/gpt-ecco-sandbox-9TtSrW0h-py3.9/lib/python3.9/site-packages/transformers/file_utils.py?line=1857'>1858</a>\u001b[0m     output_path \u001b[39m=\u001b[39m url_or_filename\n",
      "File \u001b[0;32m~/.cache/pypoetry/virtualenvs/gpt-ecco-sandbox-9TtSrW0h-py3.9/lib/python3.9/site-packages/transformers/file_utils.py:2102\u001b[0m, in \u001b[0;36mget_from_cache\u001b[0;34m(url, cache_dir, force_download, proxies, etag_timeout, resume_download, user_agent, use_auth_token, local_files_only)\u001b[0m\n\u001b[1;32m   <a href='file:///~/.cache/pypoetry/virtualenvs/gpt-ecco-sandbox-9TtSrW0h-py3.9/lib/python3.9/site-packages/transformers/file_utils.py?line=2095'>2096</a>\u001b[0m                 \u001b[39mraise\u001b[39;00m \u001b[39mFileNotFoundError\u001b[39;00m(\n\u001b[1;32m   <a href='file:///~/.cache/pypoetry/virtualenvs/gpt-ecco-sandbox-9TtSrW0h-py3.9/lib/python3.9/site-packages/transformers/file_utils.py?line=2096'>2097</a>\u001b[0m                     \u001b[39m\"\u001b[39m\u001b[39mCannot find the requested files in the cached path and outgoing traffic has been\u001b[39m\u001b[39m\"\u001b[39m\n\u001b[1;32m   <a href='file:///~/.cache/pypoetry/virtualenvs/gpt-ecco-sandbox-9TtSrW0h-py3.9/lib/python3.9/site-packages/transformers/file_utils.py?line=2097'>2098</a>\u001b[0m                     \u001b[39m\"\u001b[39m\u001b[39m disabled. To enable model look-ups and downloads online, set \u001b[39m\u001b[39m'\u001b[39m\u001b[39mlocal_files_only\u001b[39m\u001b[39m'\u001b[39m\u001b[39m\"\u001b[39m\n\u001b[1;32m   <a href='file:///~/.cache/pypoetry/virtualenvs/gpt-ecco-sandbox-9TtSrW0h-py3.9/lib/python3.9/site-packages/transformers/file_utils.py?line=2098'>2099</a>\u001b[0m                     \u001b[39m\"\u001b[39m\u001b[39m to False.\u001b[39m\u001b[39m\"\u001b[39m\n\u001b[1;32m   <a href='file:///~/.cache/pypoetry/virtualenvs/gpt-ecco-sandbox-9TtSrW0h-py3.9/lib/python3.9/site-packages/transformers/file_utils.py?line=2099'>2100</a>\u001b[0m                 )\n\u001b[1;32m   <a href='file:///~/.cache/pypoetry/virtualenvs/gpt-ecco-sandbox-9TtSrW0h-py3.9/lib/python3.9/site-packages/transformers/file_utils.py?line=2100'>2101</a>\u001b[0m             \u001b[39melse\u001b[39;00m:\n\u001b[0;32m-> <a href='file:///~/.cache/pypoetry/virtualenvs/gpt-ecco-sandbox-9TtSrW0h-py3.9/lib/python3.9/site-packages/transformers/file_utils.py?line=2101'>2102</a>\u001b[0m                 \u001b[39mraise\u001b[39;00m \u001b[39mValueError\u001b[39;00m(\n\u001b[1;32m   <a href='file:///~/.cache/pypoetry/virtualenvs/gpt-ecco-sandbox-9TtSrW0h-py3.9/lib/python3.9/site-packages/transformers/file_utils.py?line=2102'>2103</a>\u001b[0m                     \u001b[39m\"\u001b[39m\u001b[39mConnection error, and we cannot find the requested files in the cached path.\u001b[39m\u001b[39m\"\u001b[39m\n\u001b[1;32m   <a href='file:///~/.cache/pypoetry/virtualenvs/gpt-ecco-sandbox-9TtSrW0h-py3.9/lib/python3.9/site-packages/transformers/file_utils.py?line=2103'>2104</a>\u001b[0m                     \u001b[39m\"\u001b[39m\u001b[39m Please try again or make sure your Internet connection is on.\u001b[39m\u001b[39m\"\u001b[39m\n\u001b[1;32m   <a href='file:///~/.cache/pypoetry/virtualenvs/gpt-ecco-sandbox-9TtSrW0h-py3.9/lib/python3.9/site-packages/transformers/file_utils.py?line=2104'>2105</a>\u001b[0m                 )\n\u001b[1;32m   <a href='file:///~/.cache/pypoetry/virtualenvs/gpt-ecco-sandbox-9TtSrW0h-py3.9/lib/python3.9/site-packages/transformers/file_utils.py?line=2106'>2107</a>\u001b[0m \u001b[39m# From now on, etag is not None.\u001b[39;00m\n\u001b[1;32m   <a href='file:///~/.cache/pypoetry/virtualenvs/gpt-ecco-sandbox-9TtSrW0h-py3.9/lib/python3.9/site-packages/transformers/file_utils.py?line=2107'>2108</a>\u001b[0m \u001b[39mif\u001b[39;00m os\u001b[39m.\u001b[39mpath\u001b[39m.\u001b[39mexists(cache_path) \u001b[39mand\u001b[39;00m \u001b[39mnot\u001b[39;00m force_download:\n",
      "\u001b[0;31mValueError\u001b[0m: Connection error, and we cannot find the requested files in the cached path. Please try again or make sure your Internet connection is on."
     ]
    }
   ],
   "source": [
    "# インターネットに繋がってない場合\n",
    "# ValueError: Connection error, and we cannot find the requested files in the cached path. Please try again or make sure your Internet connection is on.\n",
    "generator = Generator(model_name=\"rinna/japanese-gpt2-medium\")\n",
    "generator.gen(\"吾輩は猫である。名前は\")"
   ]
  },
  {
   "cell_type": "code",
   "execution_count": 9,
   "metadata": {},
   "outputs": [
    {
     "data": {
      "text/plain": [
       "'吾輩は猫である。名前は家から出てたのだからどこかもかわいそうだ。そして、この子は生まれも育ちも真昼のところだったというが、本当のところはどうでもいい。その子ネコ猫の妖精はまさしくその妖精か、この妖精のようなタイプである。彼らについて真昼の寒さに耐えられるなあ、と思って、暗い影からずぼらして見たが、森の中どもで普通に歩いている人間を見た。そして、'"
      ]
     },
     "execution_count": 9,
     "metadata": {},
     "output_type": "execute_result"
    }
   ],
   "source": [
    "generator = Generator(model_name=\"rinna/japanese-gpt2-xsmall\")\n",
    "generator.gen(\"吾輩は猫である。名前は\")"
   ]
  },
  {
   "cell_type": "markdown",
   "metadata": {},
   "source": [
    "`~/.cache/huggingface/`か、`cache_dir`にキャッシュが保存されるけど、ネットワークアクセスは走る。\n",
    "オフラインモード\n",
    "https://huggingface.co/docs/transformers/installation#offline-mode"
   ]
  },
  {
   "cell_type": "code",
   "execution_count": 2,
   "metadata": {},
   "outputs": [
    {
     "data": {
      "text/plain": [
       "'1'"
      ]
     },
     "execution_count": 2,
     "metadata": {},
     "output_type": "execute_result"
    }
   ],
   "source": [
    "from os import environ\n",
    "# environ[\"TRANSFORMERS_OFFLINE\"] = \"0\"\n",
    "# environ[\"TRANSFORMERS_OFFLINE\"] = \"1\"\n",
    "environ[\"TRANSFORMERS_OFFLINE\"]"
   ]
  },
  {
   "cell_type": "code",
   "execution_count": 3,
   "metadata": {},
   "outputs": [
    {
     "ename": "OSError",
     "evalue": "Can't load tokenizer for 'rinna/japanese-gpt2-xsmall'. If you were trying to load it from 'https://huggingface.co/models', make sure you don't have a local directory with the same name. Otherwise, make sure 'rinna/japanese-gpt2-xsmall' is the correct path to a directory containing all relevant tokenizer files.",
     "output_type": "error",
     "traceback": [
      "\u001b[0;31m---------------------------------------------------------------------------\u001b[0m",
      "\u001b[0;31mOSError\u001b[0m                                   Traceback (most recent call last)",
      "\u001b[1;32m/app/notes/index.ipynb Cell 6'\u001b[0m in \u001b[0;36m<module>\u001b[0;34m\u001b[0m\n\u001b[0;32m----> <a href='vscode-notebook-cell://attached-container%2B7b22636f6e7461696e65724e616d65223a222f6770745f6563636f5f73616e64626f785f6170705f31227d/app/notes/index.ipynb#ch0000005vscode-remote?line=0'>1</a>\u001b[0m generator \u001b[39m=\u001b[39m Generator(model_name\u001b[39m=\u001b[39;49m\u001b[39m\"\u001b[39;49m\u001b[39mrinna/japanese-gpt2-xsmall\u001b[39;49m\u001b[39m\"\u001b[39;49m)\n\u001b[1;32m      <a href='vscode-notebook-cell://attached-container%2B7b22636f6e7461696e65724e616d65223a222f6770745f6563636f5f73616e64626f785f6170705f31227d/app/notes/index.ipynb#ch0000005vscode-remote?line=1'>2</a>\u001b[0m generator\u001b[39m.\u001b[39mgen(\u001b[39m\"\u001b[39m\u001b[39m吾輩は猫である。名前は\u001b[39m\u001b[39m\"\u001b[39m)\n",
      "\u001b[1;32m/app/notes/index.ipynb Cell 1'\u001b[0m in \u001b[0;36mGenerator.__init__\u001b[0;34m(self, model_name)\u001b[0m\n\u001b[1;32m      <a href='vscode-notebook-cell://attached-container%2B7b22636f6e7461696e65724e616d65223a222f6770745f6563636f5f73616e64626f785f6170705f31227d/app/notes/index.ipynb#ch0000000vscode-remote?line=4'>5</a>\u001b[0m \u001b[39mdef\u001b[39;00m \u001b[39m__init__\u001b[39m(\u001b[39mself\u001b[39m, model_name \u001b[39m=\u001b[39m \u001b[39m\"\u001b[39m\u001b[39mrinna/japanese-gpt-1b\u001b[39m\u001b[39m\"\u001b[39m):\n\u001b[0;32m----> <a href='vscode-notebook-cell://attached-container%2B7b22636f6e7461696e65724e616d65223a222f6770745f6563636f5f73616e64626f785f6170705f31227d/app/notes/index.ipynb#ch0000000vscode-remote?line=5'>6</a>\u001b[0m     \u001b[39mself\u001b[39m\u001b[39m.\u001b[39mtokenizer \u001b[39m=\u001b[39m T5Tokenizer\u001b[39m.\u001b[39;49mfrom_pretrained(model_name)\n\u001b[1;32m      <a href='vscode-notebook-cell://attached-container%2B7b22636f6e7461696e65724e616d65223a222f6770745f6563636f5f73616e64626f785f6170705f31227d/app/notes/index.ipynb#ch0000000vscode-remote?line=6'>7</a>\u001b[0m     \u001b[39mself\u001b[39m\u001b[39m.\u001b[39mmodel \u001b[39m=\u001b[39m AutoModelForCausalLM\u001b[39m.\u001b[39mfrom_pretrained(model_name)\n",
      "File \u001b[0;32m~/.cache/pypoetry/virtualenvs/gpt-ecco-sandbox-9TtSrW0h-py3.9/lib/python3.9/site-packages/transformers/tokenization_utils_base.py:1757\u001b[0m, in \u001b[0;36mPreTrainedTokenizerBase.from_pretrained\u001b[0;34m(cls, pretrained_model_name_or_path, *init_inputs, **kwargs)\u001b[0m\n\u001b[1;32m   <a href='file:///~/.cache/pypoetry/virtualenvs/gpt-ecco-sandbox-9TtSrW0h-py3.9/lib/python3.9/site-packages/transformers/tokenization_utils_base.py?line=1750'>1751</a>\u001b[0m     logger\u001b[39m.\u001b[39minfo(\n\u001b[1;32m   <a href='file:///~/.cache/pypoetry/virtualenvs/gpt-ecco-sandbox-9TtSrW0h-py3.9/lib/python3.9/site-packages/transformers/tokenization_utils_base.py?line=1751'>1752</a>\u001b[0m         \u001b[39mf\u001b[39m\u001b[39m\"\u001b[39m\u001b[39mCan\u001b[39m\u001b[39m'\u001b[39m\u001b[39mt load following files from cache: \u001b[39m\u001b[39m{\u001b[39;00munresolved_files\u001b[39m}\u001b[39;00m\u001b[39m and cannot check if these \u001b[39m\u001b[39m\"\u001b[39m\n\u001b[1;32m   <a href='file:///~/.cache/pypoetry/virtualenvs/gpt-ecco-sandbox-9TtSrW0h-py3.9/lib/python3.9/site-packages/transformers/tokenization_utils_base.py?line=1752'>1753</a>\u001b[0m         \u001b[39m\"\u001b[39m\u001b[39mfiles are necessary for the tokenizer to operate.\u001b[39m\u001b[39m\"\u001b[39m\n\u001b[1;32m   <a href='file:///~/.cache/pypoetry/virtualenvs/gpt-ecco-sandbox-9TtSrW0h-py3.9/lib/python3.9/site-packages/transformers/tokenization_utils_base.py?line=1753'>1754</a>\u001b[0m     )\n\u001b[1;32m   <a href='file:///~/.cache/pypoetry/virtualenvs/gpt-ecco-sandbox-9TtSrW0h-py3.9/lib/python3.9/site-packages/transformers/tokenization_utils_base.py?line=1755'>1756</a>\u001b[0m \u001b[39mif\u001b[39;00m \u001b[39mall\u001b[39m(full_file_name \u001b[39mis\u001b[39;00m \u001b[39mNone\u001b[39;00m \u001b[39mfor\u001b[39;00m full_file_name \u001b[39min\u001b[39;00m resolved_vocab_files\u001b[39m.\u001b[39mvalues()):\n\u001b[0;32m-> <a href='file:///~/.cache/pypoetry/virtualenvs/gpt-ecco-sandbox-9TtSrW0h-py3.9/lib/python3.9/site-packages/transformers/tokenization_utils_base.py?line=1756'>1757</a>\u001b[0m     \u001b[39mraise\u001b[39;00m \u001b[39mEnvironmentError\u001b[39;00m(\n\u001b[1;32m   <a href='file:///~/.cache/pypoetry/virtualenvs/gpt-ecco-sandbox-9TtSrW0h-py3.9/lib/python3.9/site-packages/transformers/tokenization_utils_base.py?line=1757'>1758</a>\u001b[0m         \u001b[39mf\u001b[39m\u001b[39m\"\u001b[39m\u001b[39mCan\u001b[39m\u001b[39m'\u001b[39m\u001b[39mt load tokenizer for \u001b[39m\u001b[39m'\u001b[39m\u001b[39m{\u001b[39;00mpretrained_model_name_or_path\u001b[39m}\u001b[39;00m\u001b[39m'\u001b[39m\u001b[39m. If you were trying to load it from \u001b[39m\u001b[39m\"\u001b[39m\n\u001b[1;32m   <a href='file:///~/.cache/pypoetry/virtualenvs/gpt-ecco-sandbox-9TtSrW0h-py3.9/lib/python3.9/site-packages/transformers/tokenization_utils_base.py?line=1758'>1759</a>\u001b[0m         \u001b[39m\"\u001b[39m\u001b[39m'\u001b[39m\u001b[39mhttps://huggingface.co/models\u001b[39m\u001b[39m'\u001b[39m\u001b[39m, make sure you don\u001b[39m\u001b[39m'\u001b[39m\u001b[39mt have a local directory with the same name. \u001b[39m\u001b[39m\"\u001b[39m\n\u001b[1;32m   <a href='file:///~/.cache/pypoetry/virtualenvs/gpt-ecco-sandbox-9TtSrW0h-py3.9/lib/python3.9/site-packages/transformers/tokenization_utils_base.py?line=1759'>1760</a>\u001b[0m         \u001b[39mf\u001b[39m\u001b[39m\"\u001b[39m\u001b[39mOtherwise, make sure \u001b[39m\u001b[39m'\u001b[39m\u001b[39m{\u001b[39;00mpretrained_model_name_or_path\u001b[39m}\u001b[39;00m\u001b[39m'\u001b[39m\u001b[39m is the correct path to a directory \u001b[39m\u001b[39m\"\u001b[39m\n\u001b[1;32m   <a href='file:///~/.cache/pypoetry/virtualenvs/gpt-ecco-sandbox-9TtSrW0h-py3.9/lib/python3.9/site-packages/transformers/tokenization_utils_base.py?line=1760'>1761</a>\u001b[0m         \u001b[39mf\u001b[39m\u001b[39m\"\u001b[39m\u001b[39mcontaining all relevant tokenizer files.\u001b[39m\u001b[39m\"\u001b[39m\n\u001b[1;32m   <a href='file:///~/.cache/pypoetry/virtualenvs/gpt-ecco-sandbox-9TtSrW0h-py3.9/lib/python3.9/site-packages/transformers/tokenization_utils_base.py?line=1761'>1762</a>\u001b[0m     )\n\u001b[1;32m   <a href='file:///~/.cache/pypoetry/virtualenvs/gpt-ecco-sandbox-9TtSrW0h-py3.9/lib/python3.9/site-packages/transformers/tokenization_utils_base.py?line=1763'>1764</a>\u001b[0m \u001b[39mfor\u001b[39;00m file_id, file_path \u001b[39min\u001b[39;00m vocab_files\u001b[39m.\u001b[39mitems():\n\u001b[1;32m   <a href='file:///~/.cache/pypoetry/virtualenvs/gpt-ecco-sandbox-9TtSrW0h-py3.9/lib/python3.9/site-packages/transformers/tokenization_utils_base.py?line=1764'>1765</a>\u001b[0m     \u001b[39mif\u001b[39;00m file_id \u001b[39mnot\u001b[39;00m \u001b[39min\u001b[39;00m resolved_vocab_files:\n",
      "\u001b[0;31mOSError\u001b[0m: Can't load tokenizer for 'rinna/japanese-gpt2-xsmall'. If you were trying to load it from 'https://huggingface.co/models', make sure you don't have a local directory with the same name. Otherwise, make sure 'rinna/japanese-gpt2-xsmall' is the correct path to a directory containing all relevant tokenizer files."
     ]
    }
   ],
   "source": [
    "generator = Generator(model_name=\"rinna/japanese-gpt2-xsmall\")\n",
    "generator.gen(\"吾輩は猫である。名前は\")"
   ]
  },
  {
   "cell_type": "code",
   "execution_count": 2,
   "metadata": {},
   "outputs": [
    {
     "data": {
      "application/vnd.jupyter.widget-view+json": {
       "model_id": "e0198d98c3ab428e8022bfe703a10102",
       "version_major": 2,
       "version_minor": 0
      },
      "text/plain": [
       "Downloading:   0%|          | 0.00/737 [00:00<?, ?B/s]"
      ]
     },
     "metadata": {},
     "output_type": "display_data"
    },
    {
     "data": {
      "application/vnd.jupyter.widget-view+json": {
       "model_id": "59c58b028ad24377848e1183f2f6295d",
       "version_major": 2,
       "version_minor": 0
      },
      "text/plain": [
       "Downloading:   0%|          | 0.00/1.66k [00:00<?, ?B/s]"
      ]
     },
     "metadata": {},
     "output_type": "display_data"
    },
    {
     "data": {
      "application/vnd.jupyter.widget-view+json": {
       "model_id": "5daacd30cadf436e89245504e9c91f3a",
       "version_major": 2,
       "version_minor": 0
      },
      "text/plain": [
       "Downloading:   0%|          | 0.00/845 [00:00<?, ?B/s]"
      ]
     },
     "metadata": {},
     "output_type": "display_data"
    },
    {
     "data": {
      "application/vnd.jupyter.widget-view+json": {
       "model_id": "29a1c40ab8704a888e683f1c695962ad",
       "version_major": 2,
       "version_minor": 0
      },
      "text/plain": [
       "Downloading:   0%|          | 0.00/156M [00:00<?, ?B/s]"
      ]
     },
     "metadata": {},
     "output_type": "display_data"
    },
    {
     "data": {
      "application/vnd.jupyter.widget-view+json": {
       "model_id": "5484e5e7d223472f855884bbcfecdd79",
       "version_major": 2,
       "version_minor": 0
      },
      "text/plain": [
       "Downloading:   0%|          | 0.00/60.3k [00:00<?, ?B/s]"
      ]
     },
     "metadata": {},
     "output_type": "display_data"
    },
    {
     "data": {
      "application/vnd.jupyter.widget-view+json": {
       "model_id": "40135e774cc54d589afdc617212b698d",
       "version_major": 2,
       "version_minor": 0
      },
      "text/plain": [
       "Downloading:   0%|          | 0.00/153 [00:00<?, ?B/s]"
      ]
     },
     "metadata": {},
     "output_type": "display_data"
    },
    {
     "data": {
      "application/vnd.jupyter.widget-view+json": {
       "model_id": "fc465526fdb34583b219c6bd51261bfe",
       "version_major": 2,
       "version_minor": 0
      },
      "text/plain": [
       "Downloading:   0%|          | 0.00/806k [00:00<?, ?B/s]"
      ]
     },
     "metadata": {},
     "output_type": "display_data"
    },
    {
     "data": {
      "application/vnd.jupyter.widget-view+json": {
       "model_id": "f3bf839cb7674998bf3ccb3b8fcd1495",
       "version_major": 2,
       "version_minor": 0
      },
      "text/plain": [
       "Downloading:   0%|          | 0.00/150M [00:00<?, ?B/s]"
      ]
     },
     "metadata": {},
     "output_type": "display_data"
    },
    {
     "data": {
      "application/vnd.jupyter.widget-view+json": {
       "model_id": "57e263da52e147e58b73966fa56b0da5",
       "version_major": 2,
       "version_minor": 0
      },
      "text/plain": [
       "Downloading:   0%|          | 0.00/282 [00:00<?, ?B/s]"
      ]
     },
     "metadata": {},
     "output_type": "display_data"
    },
    {
     "data": {
      "text/plain": [
       "'吾輩は猫である。名前は「君」と呼ぶ。 ともあれ、まだ「君」と呼ぶけれども、彼は違う。奇妙なところがある。それは、 僕は、僕の考えにそった愛兎姫の言葉を誰かに内緒で葬ったのである。 そこには、自分も自分の語りかけ方にも定評があり、いわゆる「伝説の猫」の飼い主の、 「ああっ! あ〜あ、あの......本当にこの猫さん'"
      ]
     },
     "execution_count": 2,
     "metadata": {},
     "output_type": "execute_result"
    }
   ],
   "source": [
    "from huggingface_hub import snapshot_download\n",
    "download_path = snapshot_download(repo_id=\"rinna/japanese-gpt2-xsmall\")\n",
    "generator = Generator(model_name=download_path)\n",
    "generator.gen(\"吾輩は猫である。名前は\")"
   ]
  },
  {
   "cell_type": "code",
   "execution_count": 3,
   "metadata": {},
   "outputs": [
    {
     "name": "stdout",
     "output_type": "stream",
     "text": [
      "/root/.cache/huggingface/hub/rinna--japanese-gpt2-xsmall.main.e2dac72065c0da14d687ade9931549711e1f35fd\n"
     ]
    }
   ],
   "source": [
    "print(download_path)\n"
   ]
  },
  {
   "cell_type": "code",
   "execution_count": 6,
   "metadata": {},
   "outputs": [
    {
     "data": {
      "text/plain": [
       "'吾輩は猫である。名前は、己の三雄弁で、性格は、人間的に、他より明るい心情なだけでなく、情愛の深さが感じられる。長くなり過ぎたのは、すれ違った事しか出来ないから、もっと楽しい人生を過ごしたい。そんな想いを抱き寄せながら、一所懸命に生きてまいりたいと思う。そんな気持ちを忘れずに、いっしょに、わがままを言って参りたいと願っています。 人間は自分が'"
      ]
     },
     "execution_count": 6,
     "metadata": {},
     "output_type": "execute_result"
    }
   ],
   "source": [
    "generator = Generator(model_name=download_path)\n",
    "generator.gen(\"吾輩は猫である。名前は\")"
   ]
  },
  {
   "cell_type": "code",
   "execution_count": 2,
   "metadata": {},
   "outputs": [
    {
     "name": "stdout",
     "output_type": "stream",
     "text": [
      "url https://huggingface.co/rinna/japanese-gpt2-xsmall/resolve/main/tokenizer_config.json\n",
      "etag \"456c3d2b50b56842e4beb3c3ae5b65ebb4f47fea\"\n",
      "filename 2ac102935740ee31d3b93ab50beeb4c700bd0fe8d41d4d143ceac0386e1ca9dc.9c6d86638d0c8b0d39297c982899c13374e883f6e85a7c2c9baad32a40abf7dd\n",
      "/root/.cache/huggingface/transformers/2ac102935740ee31d3b93ab50beeb4c700bd0fe8d41d4d143ceac0386e1ca9dc.9c6d86638d0c8b0d39297c982899c13374e883f6e85a7c2c9baad32a40abf7dd\n",
      "url https://huggingface.co/rinna/japanese-gpt2-xsmall/resolve/main/spiece.model\n",
      "etag \"b5cbdfa8aa7c54c8c5af85b78c309c54a5f2749a20468bf6f60eee007fe6fec1\"\n",
      "filename 17dfff37ebb5e65893442c89cc627b33972675bb5bef546ab20c3e31cf810dd5.c0b735c65f40dff8596b5f699043bb29048036242443fea32b79a9dd8510ea96\n",
      "/root/.cache/huggingface/transformers/17dfff37ebb5e65893442c89cc627b33972675bb5bef546ab20c3e31cf810dd5.c0b735c65f40dff8596b5f699043bb29048036242443fea32b79a9dd8510ea96\n",
      "url https://huggingface.co/rinna/japanese-gpt2-xsmall/resolve/main/special_tokens_map.json\n",
      "etag \"6d5b0586c7f14b79819e62dedd4b0d73728b8703\"\n",
      "filename d6b3359a7f9ba465973c4c2e1abef7d783b8c62e0f91ae2821a1eae283496aa7.9049458ebcd1cf666b7b0a046aa394597f12e611077571cfc86e0938f8675d82\n",
      "/root/.cache/huggingface/transformers/d6b3359a7f9ba465973c4c2e1abef7d783b8c62e0f91ae2821a1eae283496aa7.9049458ebcd1cf666b7b0a046aa394597f12e611077571cfc86e0938f8675d82\n",
      "url https://huggingface.co/rinna/japanese-gpt2-xsmall/resolve/main/tokenizer_config.json\n",
      "etag \"456c3d2b50b56842e4beb3c3ae5b65ebb4f47fea\"\n",
      "filename 2ac102935740ee31d3b93ab50beeb4c700bd0fe8d41d4d143ceac0386e1ca9dc.9c6d86638d0c8b0d39297c982899c13374e883f6e85a7c2c9baad32a40abf7dd\n",
      "/root/.cache/huggingface/transformers/2ac102935740ee31d3b93ab50beeb4c700bd0fe8d41d4d143ceac0386e1ca9dc.9c6d86638d0c8b0d39297c982899c13374e883f6e85a7c2c9baad32a40abf7dd\n",
      "url https://huggingface.co/rinna/japanese-gpt2-xsmall/resolve/main/config.json\n",
      "etag \"b51bb479e36e391a77cecb459097ca9af6cd5e45\"\n",
      "filename 7b681bba8cb6c1aa639bf0fa66cff06ca5c49bb370cf7a7ed39baf42c3b32dae.147d8d05f4d531460a7b47f4439b3fa9c4439ca6aaf057d0500fef79b1a60b2c\n",
      "/root/.cache/huggingface/transformers/7b681bba8cb6c1aa639bf0fa66cff06ca5c49bb370cf7a7ed39baf42c3b32dae.147d8d05f4d531460a7b47f4439b3fa9c4439ca6aaf057d0500fef79b1a60b2c\n",
      "url https://huggingface.co/rinna/japanese-gpt2-xsmall/resolve/main/pytorch_model.bin\n",
      "etag \"390f67d37f087edfc91e506d7540afb3726af90b0d68e4e8f312f826aada560b\"\n",
      "filename 3f9f757c5d63dae90f20eee65daf9f8f89634f027a7a9aadf9547d90d361b4a1.815222dc300f8c6700adbcda3bd90440e43129f1c8de8813a23e62101adaf76a\n",
      "/root/.cache/huggingface/transformers/3f9f757c5d63dae90f20eee65daf9f8f89634f027a7a9aadf9547d90d361b4a1.815222dc300f8c6700adbcda3bd90440e43129f1c8de8813a23e62101adaf76a\n"
     ]
    },
    {
     "data": {
      "text/plain": [
       "'吾輩は猫である。名前は「伊月光子」。略称は久光です。 【公式】 「あらなまと」のことは知らなくても知ってたら、ふーん、もっと早く知ってた人ですな。 次の物語はいつになるか分からないけど・・・・・・・今のも寂しくてこんなに遅く感じるとは思わぬところ(<unk> ・ω・ ́) 1時間くらい時間かけて夢'"
      ]
     },
     "execution_count": 2,
     "metadata": {},
     "output_type": "execute_result"
    }
   ],
   "source": [
    "generator = Generator(model_name=\"rinna/japanese-gpt2-xsmall\")\n",
    "generator.gen(\"吾輩は猫である。名前は\")"
   ]
  },
  {
   "cell_type": "code",
   "execution_count": 3,
   "metadata": {},
   "outputs": [
    {
     "name": "stdout",
     "output_type": "stream",
     "text": [
      "url https://huggingface.co/rinna/japanese-gpt2-xsmall/resolve/main/tokenizer_config.json\n",
      "etag None\n",
      "filename 2ac102935740ee31d3b93ab50beeb4c700bd0fe8d41d4d143ceac0386e1ca9dc\n",
      "/root/.cache/huggingface/transformers/2ac102935740ee31d3b93ab50beeb4c700bd0fe8d41d4d143ceac0386e1ca9dc\n",
      "url https://huggingface.co/rinna/japanese-gpt2-xsmall/resolve/main/spiece.model\n",
      "etag None\n",
      "filename 17dfff37ebb5e65893442c89cc627b33972675bb5bef546ab20c3e31cf810dd5\n",
      "/root/.cache/huggingface/transformers/17dfff37ebb5e65893442c89cc627b33972675bb5bef546ab20c3e31cf810dd5\n",
      "url https://huggingface.co/rinna/japanese-gpt2-xsmall/resolve/main/added_tokens.json\n",
      "etag None\n",
      "filename f7baf9d8346383a9ad8ef682f2ad99233f57fef94cdcfe182c8fa98987c2e181\n",
      "/root/.cache/huggingface/transformers/f7baf9d8346383a9ad8ef682f2ad99233f57fef94cdcfe182c8fa98987c2e181\n"
     ]
    },
    {
     "ename": "ValueError",
     "evalue": "Connection error, and we cannot find the requested files in the cached path. Please try again or make sure your Internet connection is on.",
     "output_type": "error",
     "traceback": [
      "\u001b[0;31m---------------------------------------------------------------------------\u001b[0m",
      "\u001b[0;31mValueError\u001b[0m                                Traceback (most recent call last)",
      "\u001b[1;32m/app/notes/index.ipynb Cell 11'\u001b[0m in \u001b[0;36m<module>\u001b[0;34m\u001b[0m\n\u001b[0;32m----> <a href='vscode-notebook-cell://attached-container%2B7b22636f6e7461696e65724e616d65223a222f6770745f6563636f5f73616e64626f785f6170705f31227d/app/notes/index.ipynb#ch0000009vscode-remote?line=0'>1</a>\u001b[0m generator \u001b[39m=\u001b[39m Generator(model_name\u001b[39m=\u001b[39;49m\u001b[39m\"\u001b[39;49m\u001b[39mrinna/japanese-gpt2-xsmall\u001b[39;49m\u001b[39m\"\u001b[39;49m)\n\u001b[1;32m      <a href='vscode-notebook-cell://attached-container%2B7b22636f6e7461696e65724e616d65223a222f6770745f6563636f5f73616e64626f785f6170705f31227d/app/notes/index.ipynb#ch0000009vscode-remote?line=1'>2</a>\u001b[0m generator\u001b[39m.\u001b[39mgen(\u001b[39m\"\u001b[39m\u001b[39m吾輩は猫である。名前は\u001b[39m\u001b[39m\"\u001b[39m)\n",
      "\u001b[1;32m/app/notes/index.ipynb Cell 1'\u001b[0m in \u001b[0;36mGenerator.__init__\u001b[0;34m(self, model_name)\u001b[0m\n\u001b[1;32m      <a href='vscode-notebook-cell://attached-container%2B7b22636f6e7461696e65724e616d65223a222f6770745f6563636f5f73616e64626f785f6170705f31227d/app/notes/index.ipynb#ch0000000vscode-remote?line=4'>5</a>\u001b[0m \u001b[39mdef\u001b[39;00m \u001b[39m__init__\u001b[39m(\u001b[39mself\u001b[39m, model_name \u001b[39m=\u001b[39m \u001b[39m\"\u001b[39m\u001b[39mrinna/japanese-gpt-1b\u001b[39m\u001b[39m\"\u001b[39m):\n\u001b[0;32m----> <a href='vscode-notebook-cell://attached-container%2B7b22636f6e7461696e65724e616d65223a222f6770745f6563636f5f73616e64626f785f6170705f31227d/app/notes/index.ipynb#ch0000000vscode-remote?line=5'>6</a>\u001b[0m     \u001b[39mself\u001b[39m\u001b[39m.\u001b[39mtokenizer \u001b[39m=\u001b[39m T5Tokenizer\u001b[39m.\u001b[39;49mfrom_pretrained(model_name)\n\u001b[1;32m      <a href='vscode-notebook-cell://attached-container%2B7b22636f6e7461696e65724e616d65223a222f6770745f6563636f5f73616e64626f785f6170705f31227d/app/notes/index.ipynb#ch0000000vscode-remote?line=6'>7</a>\u001b[0m     \u001b[39mself\u001b[39m\u001b[39m.\u001b[39mmodel \u001b[39m=\u001b[39m AutoModelForCausalLM\u001b[39m.\u001b[39mfrom_pretrained(model_name)\n",
      "File \u001b[0;32m~/.cache/pypoetry/virtualenvs/gpt-ecco-sandbox-9TtSrW0h-py3.9/lib/python3.9/site-packages/transformers/tokenization_utils_base.py:1707\u001b[0m, in \u001b[0;36mPreTrainedTokenizerBase.from_pretrained\u001b[0;34m(cls, pretrained_model_name_or_path, *init_inputs, **kwargs)\u001b[0m\n\u001b[1;32m   <a href='file:///~/.cache/pypoetry/virtualenvs/gpt-ecco-sandbox-9TtSrW0h-py3.9/lib/python3.9/site-packages/transformers/tokenization_utils_base.py?line=1704'>1705</a>\u001b[0m \u001b[39melse\u001b[39;00m:\n\u001b[1;32m   <a href='file:///~/.cache/pypoetry/virtualenvs/gpt-ecco-sandbox-9TtSrW0h-py3.9/lib/python3.9/site-packages/transformers/tokenization_utils_base.py?line=1705'>1706</a>\u001b[0m     \u001b[39mtry\u001b[39;00m:\n\u001b[0;32m-> <a href='file:///~/.cache/pypoetry/virtualenvs/gpt-ecco-sandbox-9TtSrW0h-py3.9/lib/python3.9/site-packages/transformers/tokenization_utils_base.py?line=1706'>1707</a>\u001b[0m         resolved_vocab_files[file_id] \u001b[39m=\u001b[39m cached_path(\n\u001b[1;32m   <a href='file:///~/.cache/pypoetry/virtualenvs/gpt-ecco-sandbox-9TtSrW0h-py3.9/lib/python3.9/site-packages/transformers/tokenization_utils_base.py?line=1707'>1708</a>\u001b[0m             file_path,\n\u001b[1;32m   <a href='file:///~/.cache/pypoetry/virtualenvs/gpt-ecco-sandbox-9TtSrW0h-py3.9/lib/python3.9/site-packages/transformers/tokenization_utils_base.py?line=1708'>1709</a>\u001b[0m             cache_dir\u001b[39m=\u001b[39;49mcache_dir,\n\u001b[1;32m   <a href='file:///~/.cache/pypoetry/virtualenvs/gpt-ecco-sandbox-9TtSrW0h-py3.9/lib/python3.9/site-packages/transformers/tokenization_utils_base.py?line=1709'>1710</a>\u001b[0m             force_download\u001b[39m=\u001b[39;49mforce_download,\n\u001b[1;32m   <a href='file:///~/.cache/pypoetry/virtualenvs/gpt-ecco-sandbox-9TtSrW0h-py3.9/lib/python3.9/site-packages/transformers/tokenization_utils_base.py?line=1710'>1711</a>\u001b[0m             proxies\u001b[39m=\u001b[39;49mproxies,\n\u001b[1;32m   <a href='file:///~/.cache/pypoetry/virtualenvs/gpt-ecco-sandbox-9TtSrW0h-py3.9/lib/python3.9/site-packages/transformers/tokenization_utils_base.py?line=1711'>1712</a>\u001b[0m             resume_download\u001b[39m=\u001b[39;49mresume_download,\n\u001b[1;32m   <a href='file:///~/.cache/pypoetry/virtualenvs/gpt-ecco-sandbox-9TtSrW0h-py3.9/lib/python3.9/site-packages/transformers/tokenization_utils_base.py?line=1712'>1713</a>\u001b[0m             local_files_only\u001b[39m=\u001b[39;49mlocal_files_only,\n\u001b[1;32m   <a href='file:///~/.cache/pypoetry/virtualenvs/gpt-ecco-sandbox-9TtSrW0h-py3.9/lib/python3.9/site-packages/transformers/tokenization_utils_base.py?line=1713'>1714</a>\u001b[0m             use_auth_token\u001b[39m=\u001b[39;49muse_auth_token,\n\u001b[1;32m   <a href='file:///~/.cache/pypoetry/virtualenvs/gpt-ecco-sandbox-9TtSrW0h-py3.9/lib/python3.9/site-packages/transformers/tokenization_utils_base.py?line=1714'>1715</a>\u001b[0m             user_agent\u001b[39m=\u001b[39;49muser_agent,\n\u001b[1;32m   <a href='file:///~/.cache/pypoetry/virtualenvs/gpt-ecco-sandbox-9TtSrW0h-py3.9/lib/python3.9/site-packages/transformers/tokenization_utils_base.py?line=1715'>1716</a>\u001b[0m         )\n\u001b[1;32m   <a href='file:///~/.cache/pypoetry/virtualenvs/gpt-ecco-sandbox-9TtSrW0h-py3.9/lib/python3.9/site-packages/transformers/tokenization_utils_base.py?line=1717'>1718</a>\u001b[0m     \u001b[39mexcept\u001b[39;00m \u001b[39mFileNotFoundError\u001b[39;00m \u001b[39mas\u001b[39;00m error:\n\u001b[1;32m   <a href='file:///~/.cache/pypoetry/virtualenvs/gpt-ecco-sandbox-9TtSrW0h-py3.9/lib/python3.9/site-packages/transformers/tokenization_utils_base.py?line=1718'>1719</a>\u001b[0m         \u001b[39mif\u001b[39;00m local_files_only:\n",
      "File \u001b[0;32m~/.cache/pypoetry/virtualenvs/gpt-ecco-sandbox-9TtSrW0h-py3.9/lib/python3.9/site-packages/transformers/file_utils.py:1846\u001b[0m, in \u001b[0;36mcached_path\u001b[0;34m(url_or_filename, cache_dir, force_download, proxies, resume_download, user_agent, extract_compressed_file, force_extract, use_auth_token, local_files_only)\u001b[0m\n\u001b[1;32m   <a href='file:///~/.cache/pypoetry/virtualenvs/gpt-ecco-sandbox-9TtSrW0h-py3.9/lib/python3.9/site-packages/transformers/file_utils.py?line=1841'>1842</a>\u001b[0m     local_files_only \u001b[39m=\u001b[39m \u001b[39mTrue\u001b[39;00m\n\u001b[1;32m   <a href='file:///~/.cache/pypoetry/virtualenvs/gpt-ecco-sandbox-9TtSrW0h-py3.9/lib/python3.9/site-packages/transformers/file_utils.py?line=1843'>1844</a>\u001b[0m \u001b[39mif\u001b[39;00m is_remote_url(url_or_filename):\n\u001b[1;32m   <a href='file:///~/.cache/pypoetry/virtualenvs/gpt-ecco-sandbox-9TtSrW0h-py3.9/lib/python3.9/site-packages/transformers/file_utils.py?line=1844'>1845</a>\u001b[0m     \u001b[39m# URL, so get it from the cache (downloading if necessary)\u001b[39;00m\n\u001b[0;32m-> <a href='file:///~/.cache/pypoetry/virtualenvs/gpt-ecco-sandbox-9TtSrW0h-py3.9/lib/python3.9/site-packages/transformers/file_utils.py?line=1845'>1846</a>\u001b[0m     output_path \u001b[39m=\u001b[39m get_from_cache(\n\u001b[1;32m   <a href='file:///~/.cache/pypoetry/virtualenvs/gpt-ecco-sandbox-9TtSrW0h-py3.9/lib/python3.9/site-packages/transformers/file_utils.py?line=1846'>1847</a>\u001b[0m         url_or_filename,\n\u001b[1;32m   <a href='file:///~/.cache/pypoetry/virtualenvs/gpt-ecco-sandbox-9TtSrW0h-py3.9/lib/python3.9/site-packages/transformers/file_utils.py?line=1847'>1848</a>\u001b[0m         cache_dir\u001b[39m=\u001b[39;49mcache_dir,\n\u001b[1;32m   <a href='file:///~/.cache/pypoetry/virtualenvs/gpt-ecco-sandbox-9TtSrW0h-py3.9/lib/python3.9/site-packages/transformers/file_utils.py?line=1848'>1849</a>\u001b[0m         force_download\u001b[39m=\u001b[39;49mforce_download,\n\u001b[1;32m   <a href='file:///~/.cache/pypoetry/virtualenvs/gpt-ecco-sandbox-9TtSrW0h-py3.9/lib/python3.9/site-packages/transformers/file_utils.py?line=1849'>1850</a>\u001b[0m         proxies\u001b[39m=\u001b[39;49mproxies,\n\u001b[1;32m   <a href='file:///~/.cache/pypoetry/virtualenvs/gpt-ecco-sandbox-9TtSrW0h-py3.9/lib/python3.9/site-packages/transformers/file_utils.py?line=1850'>1851</a>\u001b[0m         resume_download\u001b[39m=\u001b[39;49mresume_download,\n\u001b[1;32m   <a href='file:///~/.cache/pypoetry/virtualenvs/gpt-ecco-sandbox-9TtSrW0h-py3.9/lib/python3.9/site-packages/transformers/file_utils.py?line=1851'>1852</a>\u001b[0m         user_agent\u001b[39m=\u001b[39;49muser_agent,\n\u001b[1;32m   <a href='file:///~/.cache/pypoetry/virtualenvs/gpt-ecco-sandbox-9TtSrW0h-py3.9/lib/python3.9/site-packages/transformers/file_utils.py?line=1852'>1853</a>\u001b[0m         use_auth_token\u001b[39m=\u001b[39;49muse_auth_token,\n\u001b[1;32m   <a href='file:///~/.cache/pypoetry/virtualenvs/gpt-ecco-sandbox-9TtSrW0h-py3.9/lib/python3.9/site-packages/transformers/file_utils.py?line=1853'>1854</a>\u001b[0m         local_files_only\u001b[39m=\u001b[39;49mlocal_files_only,\n\u001b[1;32m   <a href='file:///~/.cache/pypoetry/virtualenvs/gpt-ecco-sandbox-9TtSrW0h-py3.9/lib/python3.9/site-packages/transformers/file_utils.py?line=1854'>1855</a>\u001b[0m     )\n\u001b[1;32m   <a href='file:///~/.cache/pypoetry/virtualenvs/gpt-ecco-sandbox-9TtSrW0h-py3.9/lib/python3.9/site-packages/transformers/file_utils.py?line=1855'>1856</a>\u001b[0m \u001b[39melif\u001b[39;00m os\u001b[39m.\u001b[39mpath\u001b[39m.\u001b[39mexists(url_or_filename):\n\u001b[1;32m   <a href='file:///~/.cache/pypoetry/virtualenvs/gpt-ecco-sandbox-9TtSrW0h-py3.9/lib/python3.9/site-packages/transformers/file_utils.py?line=1856'>1857</a>\u001b[0m     \u001b[39m# File, and it exists.\u001b[39;00m\n\u001b[1;32m   <a href='file:///~/.cache/pypoetry/virtualenvs/gpt-ecco-sandbox-9TtSrW0h-py3.9/lib/python3.9/site-packages/transformers/file_utils.py?line=1857'>1858</a>\u001b[0m     output_path \u001b[39m=\u001b[39m url_or_filename\n",
      "File \u001b[0;32m~/.cache/pypoetry/virtualenvs/gpt-ecco-sandbox-9TtSrW0h-py3.9/lib/python3.9/site-packages/transformers/file_utils.py:2106\u001b[0m, in \u001b[0;36mget_from_cache\u001b[0;34m(url, cache_dir, force_download, proxies, etag_timeout, resume_download, user_agent, use_auth_token, local_files_only)\u001b[0m\n\u001b[1;32m   <a href='file:///~/.cache/pypoetry/virtualenvs/gpt-ecco-sandbox-9TtSrW0h-py3.9/lib/python3.9/site-packages/transformers/file_utils.py?line=2099'>2100</a>\u001b[0m                 \u001b[39mraise\u001b[39;00m \u001b[39mFileNotFoundError\u001b[39;00m(\n\u001b[1;32m   <a href='file:///~/.cache/pypoetry/virtualenvs/gpt-ecco-sandbox-9TtSrW0h-py3.9/lib/python3.9/site-packages/transformers/file_utils.py?line=2100'>2101</a>\u001b[0m                     \u001b[39m\"\u001b[39m\u001b[39mCannot find the requested files in the cached path and outgoing traffic has been\u001b[39m\u001b[39m\"\u001b[39m\n\u001b[1;32m   <a href='file:///~/.cache/pypoetry/virtualenvs/gpt-ecco-sandbox-9TtSrW0h-py3.9/lib/python3.9/site-packages/transformers/file_utils.py?line=2101'>2102</a>\u001b[0m                     \u001b[39m\"\u001b[39m\u001b[39m disabled. To enable model look-ups and downloads online, set \u001b[39m\u001b[39m'\u001b[39m\u001b[39mlocal_files_only\u001b[39m\u001b[39m'\u001b[39m\u001b[39m\"\u001b[39m\n\u001b[1;32m   <a href='file:///~/.cache/pypoetry/virtualenvs/gpt-ecco-sandbox-9TtSrW0h-py3.9/lib/python3.9/site-packages/transformers/file_utils.py?line=2102'>2103</a>\u001b[0m                     \u001b[39m\"\u001b[39m\u001b[39m to False.\u001b[39m\u001b[39m\"\u001b[39m\n\u001b[1;32m   <a href='file:///~/.cache/pypoetry/virtualenvs/gpt-ecco-sandbox-9TtSrW0h-py3.9/lib/python3.9/site-packages/transformers/file_utils.py?line=2103'>2104</a>\u001b[0m                 )\n\u001b[1;32m   <a href='file:///~/.cache/pypoetry/virtualenvs/gpt-ecco-sandbox-9TtSrW0h-py3.9/lib/python3.9/site-packages/transformers/file_utils.py?line=2104'>2105</a>\u001b[0m             \u001b[39melse\u001b[39;00m:\n\u001b[0;32m-> <a href='file:///~/.cache/pypoetry/virtualenvs/gpt-ecco-sandbox-9TtSrW0h-py3.9/lib/python3.9/site-packages/transformers/file_utils.py?line=2105'>2106</a>\u001b[0m                 \u001b[39mraise\u001b[39;00m \u001b[39mValueError\u001b[39;00m(\n\u001b[1;32m   <a href='file:///~/.cache/pypoetry/virtualenvs/gpt-ecco-sandbox-9TtSrW0h-py3.9/lib/python3.9/site-packages/transformers/file_utils.py?line=2106'>2107</a>\u001b[0m                     \u001b[39m\"\u001b[39m\u001b[39mConnection error, and we cannot find the requested files in the cached path.\u001b[39m\u001b[39m\"\u001b[39m\n\u001b[1;32m   <a href='file:///~/.cache/pypoetry/virtualenvs/gpt-ecco-sandbox-9TtSrW0h-py3.9/lib/python3.9/site-packages/transformers/file_utils.py?line=2107'>2108</a>\u001b[0m                     \u001b[39m\"\u001b[39m\u001b[39m Please try again or make sure your Internet connection is on.\u001b[39m\u001b[39m\"\u001b[39m\n\u001b[1;32m   <a href='file:///~/.cache/pypoetry/virtualenvs/gpt-ecco-sandbox-9TtSrW0h-py3.9/lib/python3.9/site-packages/transformers/file_utils.py?line=2108'>2109</a>\u001b[0m                 )\n\u001b[1;32m   <a href='file:///~/.cache/pypoetry/virtualenvs/gpt-ecco-sandbox-9TtSrW0h-py3.9/lib/python3.9/site-packages/transformers/file_utils.py?line=2110'>2111</a>\u001b[0m \u001b[39m# From now on, etag is not None.\u001b[39;00m\n\u001b[1;32m   <a href='file:///~/.cache/pypoetry/virtualenvs/gpt-ecco-sandbox-9TtSrW0h-py3.9/lib/python3.9/site-packages/transformers/file_utils.py?line=2111'>2112</a>\u001b[0m \u001b[39mif\u001b[39;00m os\u001b[39m.\u001b[39mpath\u001b[39m.\u001b[39mexists(cache_path) \u001b[39mand\u001b[39;00m \u001b[39mnot\u001b[39;00m force_download:\n",
      "\u001b[0;31mValueError\u001b[0m: Connection error, and we cannot find the requested files in the cached path. Please try again or make sure your Internet connection is on."
     ]
    }
   ],
   "source": [
    "generator = Generator(model_name=\"rinna/japanese-gpt2-xsmall\")\n",
    "generator.gen(\"吾輩は猫である。名前は\")"
   ]
  },
  {
   "cell_type": "code",
   "execution_count": null,
   "metadata": {},
   "outputs": [],
   "source": []
  }
 ],
 "metadata": {
  "interpreter": {
   "hash": "a2b06d188e54ecac4ab4fe73a8a010ef0b9e00f7cf249794c189512420a294c4"
  },
  "kernelspec": {
   "display_name": "Python 3.9.10 ('gpt-ecco-sandbox-9TtSrW0h-py3.9')",
   "language": "python",
   "name": "python3"
  },
  "language_info": {
   "codemirror_mode": {
    "name": "ipython",
    "version": 3
   },
   "file_extension": ".py",
   "mimetype": "text/x-python",
   "name": "python",
   "nbconvert_exporter": "python",
   "pygments_lexer": "ipython3",
   "version": "3.9.10"
  },
  "orig_nbformat": 4
 },
 "nbformat": 4,
 "nbformat_minor": 2
}
