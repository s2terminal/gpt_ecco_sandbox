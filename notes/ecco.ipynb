{
 "cells": [
  {
   "cell_type": "code",
   "execution_count": 1,
   "metadata": {},
   "outputs": [],
   "source": [
    "import ecco\n",
    "# import torch\n",
    "# from transformers import T5Tokenizer, AutoModelForCausalLM"
   ]
  },
  {
   "cell_type": "code",
   "execution_count": 2,
   "metadata": {},
   "outputs": [],
   "source": [
    "# https://speakerdeck.com/hikomimo/ecconiyoruyan-yu-moderufalseke-shi-hua-2022-01-28-nlp-hacks-number-1?slide=6\n",
    "# https://ecco.readthedocs.io/en/main/api/ecco/\n",
    "# https://github.com/jalammar/ecco/blob/0ef61c51b76c48cd8c21c7807c20510565f307de/src/ecco/model-config.yaml\n",
    "\n",
    "def ecco_gen(text, model='rinna/japanese-gpt-1b', generate=30):\n",
    "    model_config = {\n",
    "        'embedding': \"transformer.wte.weight\",\n",
    "        'type': 'causal',\n",
    "        'activations': ['mlp\\.c_proj'],\n",
    "        \"token_prefix\": \"_\",\n",
    "        \"partial_token_prefix\": \"\",\n",
    "    }\n",
    "    lm = ecco.from_pretrained(model, model_config=model_config)\n",
    "    output = lm.generate(text, generate=generate, do_sample=True)\n",
    "    return output"
   ]
  },
  {
   "cell_type": "code",
   "execution_count": 4,
   "metadata": {},
   "outputs": [
    {
     "data": {
      "text/html": [
       "<html lang=\"en\">\n",
       "<script src=\"https://requirejs.org/docs/release/2.3.6/minified/require.js\"></script>\n",
       "<script>\n",
       "    var ecco_url = 'https://storage.googleapis.com/ml-intro/ecco/'\n",
       "    //var ecco_url = 'http://localhost:8000/'\n",
       "\n",
       "    if (window.ecco === undefined) window.ecco = {}\n",
       "\n",
       "    // Setup the paths of the script we'll be using\n",
       "    requirejs.config({\n",
       "        urlArgs: \"bust=\" + (new Date()).getTime(),\n",
       "        nodeRequire: require,\n",
       "        paths: {\n",
       "            d3: \"https://d3js.org/d3.v6.min\", // This is only for use in setup.html and basic.html\n",
       "            \"d3-array\": \"https://d3js.org/d3-array.v2.min\",\n",
       "            jquery: \"https://code.jquery.com/jquery-3.5.1.min\",\n",
       "            ecco: ecco_url + 'js/0.0.6/ecco-bundle.min',\n",
       "            xregexp: 'https://cdnjs.cloudflare.com/ajax/libs/xregexp/3.2.0/xregexp-all.min'\n",
       "        }\n",
       "    });\n",
       "\n",
       "    // Add the css file\n",
       "    //requirejs(['d3'],\n",
       "    //    function (d3) {\n",
       "    //        d3.select('#css').attr('href', ecco_url + 'html/styles.css')\n",
       "    //    })\n",
       "\n",
       "    console.log('Ecco initialize!!')\n",
       "\n",
       "    // returns a 'basic' object. basic.init() selects the html div we'll be\n",
       "    // rendering the html into, adds styles.css to the document.\n",
       "    define('basic', ['d3'],\n",
       "        function (d3) {\n",
       "            return {\n",
       "                init: function (viz_id = null) {\n",
       "                    if (viz_id == null) {\n",
       "                        viz_id = \"viz_\" + Math.round(Math.random() * 10000000)\n",
       "                    }\n",
       "                    // Select the div rendered below, change its id\n",
       "                    const div = d3.select('#basic').attr('id', viz_id),\n",
       "                        div_parent = d3.select('#' + viz_id).node().parentNode\n",
       "\n",
       "                    // Link to CSS file\n",
       "                    d3.select(div_parent).insert('link')\n",
       "                        .attr('rel', 'stylesheet')\n",
       "                        .attr('type', 'text/css')\n",
       "                        .attr('href', ecco_url + 'html/0.0.2/styles.css')\n",
       "\n",
       "                    return viz_id\n",
       "                }\n",
       "            }\n",
       "        }, function (err) {\n",
       "            console.log(err);\n",
       "        }\n",
       "    )\n",
       "</script>\n",
       "\n",
       "<head>\n",
       "    <link id='css' rel=\"stylesheet\" type=\"text/css\">\n",
       "</head>\n",
       "<div id=\"basic\"></div>\n"
      ],
      "text/plain": [
       "<IPython.core.display.HTML object>"
      ]
     },
     "metadata": {},
     "output_type": "display_data"
    },
    {
     "data": {
      "application/javascript": "\n         requirejs( ['basic', 'ecco'], function(basic, ecco){\n            basic.init('viz_782187') // Python needs to know the viz id. Used for each output token.\n            window.ecco['viz_782187'] = new ecco.renderOutputSequence({\n                    parentDiv: 'viz_782187',\n                    data: {\"tokens\": [{\"token\": \"\", \"is_partial\": true, \"position\": 0, \"token_id\": 9, \"type\": \"input\"}, {\"token\": \"\\u543e\", \"is_partial\": true, \"position\": 1, \"token_id\": 5361, \"type\": \"input\"}, {\"token\": \"\\u8f29\", \"is_partial\": true, \"position\": 2, \"token_id\": 31082, \"type\": \"input\"}, {\"token\": \"\\u306f\", \"is_partial\": true, \"position\": 3, \"token_id\": 11, \"type\": \"input\"}, {\"token\": \"\\u732b\", \"is_partial\": true, \"position\": 4, \"token_id\": 4324, \"type\": \"input\"}, {\"token\": \"\\u3067\\u3042\\u308b\", \"is_partial\": true, \"position\": 5, \"token_id\": 27, \"type\": \"input\"}, {\"token\": \"\\u3002\", \"is_partial\": true, \"position\": 6, \"token_id\": 8, \"type\": \"input\"}, {\"token\": \"\\u540d\\u524d\", \"is_partial\": true, \"position\": 7, \"token_id\": 1515, \"type\": \"input\"}, {\"token\": \"\\u306f\", \"is_partial\": true, \"position\": 8, \"token_id\": 11, \"type\": \"input\"}, {\"token\": \"</s>\", \"is_partial\": true, \"position\": 9, \"token_id\": 2, \"type\": \"input\"}]},\n                    tokenization_config: {\"token_prefix\": \"_\", \"partial_token_prefix\": \"\"}\n            \n            })\n         }, function (err) {\n            console.log(err);\n        })\n        ",
      "text/plain": [
       "<IPython.core.display.Javascript object>"
      ]
     },
     "metadata": {},
     "output_type": "display_data"
    },
    {
     "name": "stderr",
     "output_type": "stream",
     "text": [
      "Setting `pad_token_id` to `eos_token_id`:2 for open-end generation.\n"
     ]
    },
    {
     "data": {
      "application/javascript": "\n        // We don't really need these require scripts. But this is to avert\n        //this code from running before display_input_sequence which DOES require external files\n        requirejs(['basic', 'ecco'], function(basic, ecco){\n                console.log('addToken viz_id', 'viz_782187');\n                window.ecco['viz_782187'].addToken({\"token\": \"\\u516d\", \"is_partial\": true, \"token_id\": 1018, \"position\": 10, \"type\": \"output\"})\n                window.ecco['viz_782187'].redraw()\n        })\n        ",
      "text/plain": [
       "<IPython.core.display.Javascript object>"
      ]
     },
     "metadata": {},
     "output_type": "display_data"
    },
    {
     "data": {
      "application/javascript": "\n        // We don't really need these require scripts. But this is to avert\n        //this code from running before display_input_sequence which DOES require external files\n        requirejs(['basic', 'ecco'], function(basic, ecco){\n                console.log('addToken viz_id', 'viz_782187');\n                window.ecco['viz_782187'].addToken({\"token\": \"\\u756a\", \"is_partial\": true, \"token_id\": 487, \"position\": 11, \"type\": \"output\"})\n                window.ecco['viz_782187'].redraw()\n        })\n        ",
      "text/plain": [
       "<IPython.core.display.Javascript object>"
      ]
     },
     "metadata": {},
     "output_type": "display_data"
    },
    {
     "data": {
      "application/javascript": "\n        // We don't really need these require scripts. But this is to avert\n        //this code from running before display_input_sequence which DOES require external files\n        requirejs(['basic', 'ecco'], function(basic, ecco){\n                console.log('addToken viz_id', 'viz_782187');\n                window.ecco['viz_782187'].addToken({\"token\": \"\\u72ac\", \"is_partial\": true, \"token_id\": 1651, \"position\": 12, \"type\": \"output\"})\n                window.ecco['viz_782187'].redraw()\n        })\n        ",
      "text/plain": [
       "<IPython.core.display.Javascript object>"
      ]
     },
     "metadata": {},
     "output_type": "display_data"
    },
    {
     "data": {
      "application/javascript": "\n        // We don't really need these require scripts. But this is to avert\n        //this code from running before display_input_sequence which DOES require external files\n        requirejs(['basic', 'ecco'], function(basic, ecco){\n                console.log('addToken viz_id', 'viz_782187');\n                window.ecco['viz_782187'].addToken({\"token\": \"(\", \"is_partial\": true, \"token_id\": 15, \"position\": 13, \"type\": \"output\"})\n                window.ecco['viz_782187'].redraw()\n        })\n        ",
      "text/plain": [
       "<IPython.core.display.Javascript object>"
      ]
     },
     "metadata": {},
     "output_type": "display_data"
    },
    {
     "data": {
      "application/javascript": "\n        // We don't really need these require scripts. But this is to avert\n        //this code from running before display_input_sequence which DOES require external files\n        requirejs(['basic', 'ecco'], function(basic, ecco){\n                console.log('addToken viz_id', 'viz_782187');\n                window.ecco['viz_782187'].addToken({\"token\": \"\\u3057\", \"is_partial\": true, \"token_id\": 32, \"position\": 14, \"type\": \"output\"})\n                window.ecco['viz_782187'].redraw()\n        })\n        ",
      "text/plain": [
       "<IPython.core.display.Javascript object>"
      ]
     },
     "metadata": {},
     "output_type": "display_data"
    },
    {
     "data": {
      "application/javascript": "\n        // We don't really need these require scripts. But this is to avert\n        //this code from running before display_input_sequence which DOES require external files\n        requirejs(['basic', 'ecco'], function(basic, ecco){\n                console.log('addToken viz_id', 'viz_782187');\n                window.ecco['viz_782187'].addToken({\"token\": \"\\u3061\", \"is_partial\": true, \"token_id\": 662, \"position\": 15, \"type\": \"output\"})\n                window.ecco['viz_782187'].redraw()\n        })\n        ",
      "text/plain": [
       "<IPython.core.display.Javascript object>"
      ]
     },
     "metadata": {},
     "output_type": "display_data"
    },
    {
     "data": {
      "application/javascript": "\n        // We don't really need these require scripts. But this is to avert\n        //this code from running before display_input_sequence which DOES require external files\n        requirejs(['basic', 'ecco'], function(basic, ecco){\n                console.log('addToken viz_id', 'viz_782187');\n                window.ecco['viz_782187'].addToken({\"token\": \"\\u3044\", \"is_partial\": true, \"token_id\": 128, \"position\": 16, \"type\": \"output\"})\n                window.ecco['viz_782187'].redraw()\n        })\n        ",
      "text/plain": [
       "<IPython.core.display.Javascript object>"
      ]
     },
     "metadata": {},
     "output_type": "display_data"
    },
    {
     "data": {
      "application/javascript": "\n        // We don't really need these require scripts. But this is to avert\n        //this code from running before display_input_sequence which DOES require external files\n        requirejs(['basic', 'ecco'], function(basic, ecco){\n                console.log('addToken viz_id', 'viz_782187');\n                window.ecco['viz_782187'].addToken({\"token\": \"\\u3067\\u3059\", \"is_partial\": true, \"token_id\": 2767, \"position\": 17, \"type\": \"output\"})\n                window.ecco['viz_782187'].redraw()\n        })\n        ",
      "text/plain": [
       "<IPython.core.display.Javascript object>"
      ]
     },
     "metadata": {},
     "output_type": "display_data"
    },
    {
     "data": {
      "application/javascript": "\n        // We don't really need these require scripts. But this is to avert\n        //this code from running before display_input_sequence which DOES require external files\n        requirejs(['basic', 'ecco'], function(basic, ecco){\n                console.log('addToken viz_id', 'viz_782187');\n                window.ecco['viz_782187'].addToken({\"token\": \"\\u3059\\u3044\", \"is_partial\": true, \"token_id\": 9964, \"position\": 18, \"type\": \"output\"})\n                window.ecco['viz_782187'].redraw()\n        })\n        ",
      "text/plain": [
       "<IPython.core.display.Javascript object>"
      ]
     },
     "metadata": {},
     "output_type": "display_data"
    },
    {
     "data": {
      "application/javascript": "\n        // We don't really need these require scripts. But this is to avert\n        //this code from running before display_input_sequence which DOES require external files\n        requirejs(['basic', 'ecco'], function(basic, ecco){\n                console.log('addToken viz_id', 'viz_782187');\n                window.ecco['viz_782187'].addToken({\"token\": \"\\u3053\", \"is_partial\": true, \"token_id\": 315, \"position\": 19, \"type\": \"output\"})\n                window.ecco['viz_782187'].redraw()\n        })\n        ",
      "text/plain": [
       "<IPython.core.display.Javascript object>"
      ]
     },
     "metadata": {},
     "output_type": "display_data"
    },
    {
     "data": {
      "application/javascript": "\n        // We don't really need these require scripts. But this is to avert\n        //this code from running before display_input_sequence which DOES require external files\n        requirejs(['basic', 'ecco'], function(basic, ecco){\n                console.log('addToken viz_id', 'viz_782187');\n                window.ecco['viz_782187'].addToken({\"token\": \"\\u3058\", \"is_partial\": true, \"token_id\": 626, \"position\": 20, \"type\": \"output\"})\n                window.ecco['viz_782187'].redraw()\n        })\n        ",
      "text/plain": [
       "<IPython.core.display.Javascript object>"
      ]
     },
     "metadata": {},
     "output_type": "display_data"
    },
    {
     "data": {
      "application/javascript": "\n        // We don't really need these require scripts. But this is to avert\n        //this code from running before display_input_sequence which DOES require external files\n        requirejs(['basic', 'ecco'], function(basic, ecco){\n                console.log('addToken viz_id', 'viz_782187');\n                window.ecco['viz_782187'].addToken({\"token\": \"\\u3093\", \"is_partial\": true, \"token_id\": 1260, \"position\": 21, \"type\": \"output\"})\n                window.ecco['viz_782187'].redraw()\n        })\n        ",
      "text/plain": [
       "<IPython.core.display.Javascript object>"
      ]
     },
     "metadata": {},
     "output_type": "display_data"
    },
    {
     "data": {
      "application/javascript": "\n        // We don't really need these require scripts. But this is to avert\n        //this code from running before display_input_sequence which DOES require external files\n        requirejs(['basic', 'ecco'], function(basic, ecco){\n                console.log('addToken viz_id', 'viz_782187');\n                window.ecco['viz_782187'].addToken({\"token\": \")\", \"is_partial\": true, \"token_id\": 14, \"position\": 22, \"type\": \"output\"})\n                window.ecco['viz_782187'].redraw()\n        })\n        ",
      "text/plain": [
       "<IPython.core.display.Javascript object>"
      ]
     },
     "metadata": {},
     "output_type": "display_data"
    },
    {
     "data": {
      "application/javascript": "\n        // We don't really need these require scripts. But this is to avert\n        //this code from running before display_input_sequence which DOES require external files\n        requirejs(['basic', 'ecco'], function(basic, ecco){\n                console.log('addToken viz_id', 'viz_782187');\n                window.ecco['viz_782187'].addToken({\"token\": \"\\u3068\\u306f\", \"is_partial\": true, \"token_id\": 208, \"position\": 23, \"type\": \"output\"})\n                window.ecco['viz_782187'].redraw()\n        })\n        ",
      "text/plain": [
       "<IPython.core.display.Javascript object>"
      ]
     },
     "metadata": {},
     "output_type": "display_data"
    },
    {
     "data": {
      "application/javascript": "\n        // We don't really need these require scripts. But this is to avert\n        //this code from running before display_input_sequence which DOES require external files\n        requirejs(['basic', 'ecco'], function(basic, ecco){\n                console.log('addToken viz_id', 'viz_782187');\n                window.ecco['viz_782187'].addToken({\"token\": \"\\u3001\", \"is_partial\": true, \"token_id\": 7, \"position\": 24, \"type\": \"output\"})\n                window.ecco['viz_782187'].redraw()\n        })\n        ",
      "text/plain": [
       "<IPython.core.display.Javascript object>"
      ]
     },
     "metadata": {},
     "output_type": "display_data"
    },
    {
     "data": {
      "application/javascript": "\n        // We don't really need these require scripts. But this is to avert\n        //this code from running before display_input_sequence which DOES require external files\n        requirejs(['basic', 'ecco'], function(basic, ecco){\n                console.log('addToken viz_id', 'viz_782187');\n                window.ecco['viz_782187'].addToken({\"token\": \"\", \"is_partial\": true, \"token_id\": 9, \"position\": 25, \"type\": \"output\"})\n                window.ecco['viz_782187'].redraw()\n        })\n        ",
      "text/plain": [
       "<IPython.core.display.Javascript object>"
      ]
     },
     "metadata": {},
     "output_type": "display_data"
    },
    {
     "data": {
      "application/javascript": "\n        // We don't really need these require scripts. But this is to avert\n        //this code from running before display_input_sequence which DOES require external files\n        requirejs(['basic', 'ecco'], function(basic, ecco){\n                console.log('addToken viz_id', 'viz_782187');\n                window.ecco['viz_782187'].addToken({\"token\": \"\\u91ce\", \"is_partial\": true, \"token_id\": 248, \"position\": 26, \"type\": \"output\"})\n                window.ecco['viz_782187'].redraw()\n        })\n        ",
      "text/plain": [
       "<IPython.core.display.Javascript object>"
      ]
     },
     "metadata": {},
     "output_type": "display_data"
    },
    {
     "data": {
      "application/javascript": "\n        // We don't really need these require scripts. But this is to avert\n        //this code from running before display_input_sequence which DOES require external files\n        requirejs(['basic', 'ecco'], function(basic, ecco){\n                console.log('addToken viz_id', 'viz_782187');\n                window.ecco['viz_782187'].addToken({\"token\": \"\\u826f\", \"is_partial\": true, \"token_id\": 856, \"position\": 27, \"type\": \"output\"})\n                window.ecco['viz_782187'].redraw()\n        })\n        ",
      "text/plain": [
       "<IPython.core.display.Javascript object>"
      ]
     },
     "metadata": {},
     "output_type": "display_data"
    },
    {
     "data": {
      "application/javascript": "\n        // We don't really need these require scripts. But this is to avert\n        //this code from running before display_input_sequence which DOES require external files\n        requirejs(['basic', 'ecco'], function(basic, ecco){\n                console.log('addToken viz_id', 'viz_782187');\n                window.ecco['viz_782187'].addToken({\"token\": \"\\u72ac\", \"is_partial\": true, \"token_id\": 1651, \"position\": 28, \"type\": \"output\"})\n                window.ecco['viz_782187'].redraw()\n        })\n        ",
      "text/plain": [
       "<IPython.core.display.Javascript object>"
      ]
     },
     "metadata": {},
     "output_type": "display_data"
    },
    {
     "data": {
      "application/javascript": "\n        // We don't really need these require scripts. But this is to avert\n        //this code from running before display_input_sequence which DOES require external files\n        requirejs(['basic', 'ecco'], function(basic, ecco){\n                console.log('addToken viz_id', 'viz_782187');\n                window.ecco['viz_782187'].addToken({\"token\": \"\\u306e\", \"is_partial\": true, \"token_id\": 10, \"position\": 29, \"type\": \"output\"})\n                window.ecco['viz_782187'].redraw()\n        })\n        ",
      "text/plain": [
       "<IPython.core.display.Javascript object>"
      ]
     },
     "metadata": {},
     "output_type": "display_data"
    },
    {
     "data": {
      "application/javascript": "\n        // We don't really need these require scripts. But this is to avert\n        //this code from running before display_input_sequence which DOES require external files\n        requirejs(['basic', 'ecco'], function(basic, ecco){\n                console.log('addToken viz_id', 'viz_782187');\n                window.ecco['viz_782187'].addToken({\"token\": \"\\u3053\\u3068\\u3092\\u610f\\u5473\\u3057\", \"is_partial\": true, \"token_id\": 23452, \"position\": 30, \"type\": \"output\"})\n                window.ecco['viz_782187'].redraw()\n        })\n        ",
      "text/plain": [
       "<IPython.core.display.Javascript object>"
      ]
     },
     "metadata": {},
     "output_type": "display_data"
    },
    {
     "data": {
      "application/javascript": "\n        // We don't really need these require scripts. But this is to avert\n        //this code from running before display_input_sequence which DOES require external files\n        requirejs(['basic', 'ecco'], function(basic, ecco){\n                console.log('addToken viz_id', 'viz_782187');\n                window.ecco['viz_782187'].addToken({\"token\": \"\\u3001\", \"is_partial\": true, \"token_id\": 7, \"position\": 31, \"type\": \"output\"})\n                window.ecco['viz_782187'].redraw()\n        })\n        ",
      "text/plain": [
       "<IPython.core.display.Javascript object>"
      ]
     },
     "metadata": {},
     "output_type": "display_data"
    },
    {
     "data": {
      "application/javascript": "\n        // We don't really need these require scripts. But this is to avert\n        //this code from running before display_input_sequence which DOES require external files\n        requirejs(['basic', 'ecco'], function(basic, ecco){\n                console.log('addToken viz_id', 'viz_782187');\n                window.ecco['viz_782187'].addToken({\"token\": \"\\u91ce\", \"is_partial\": true, \"token_id\": 248, \"position\": 32, \"type\": \"output\"})\n                window.ecco['viz_782187'].redraw()\n        })\n        ",
      "text/plain": [
       "<IPython.core.display.Javascript object>"
      ]
     },
     "metadata": {},
     "output_type": "display_data"
    },
    {
     "data": {
      "application/javascript": "\n        // We don't really need these require scripts. But this is to avert\n        //this code from running before display_input_sequence which DOES require external files\n        requirejs(['basic', 'ecco'], function(basic, ecco){\n                console.log('addToken viz_id', 'viz_782187');\n                window.ecco['viz_782187'].addToken({\"token\": \"\\u6bdb\", \"is_partial\": true, \"token_id\": 1280, \"position\": 33, \"type\": \"output\"})\n                window.ecco['viz_782187'].redraw()\n        })\n        ",
      "text/plain": [
       "<IPython.core.display.Javascript object>"
      ]
     },
     "metadata": {},
     "output_type": "display_data"
    },
    {
     "data": {
      "application/javascript": "\n        // We don't really need these require scripts. But this is to avert\n        //this code from running before display_input_sequence which DOES require external files\n        requirejs(['basic', 'ecco'], function(basic, ecco){\n                console.log('addToken viz_id', 'viz_782187');\n                window.ecco['viz_782187'].addToken({\"token\": \"(\", \"is_partial\": true, \"token_id\": 15, \"position\": 34, \"type\": \"output\"})\n                window.ecco['viz_782187'].redraw()\n        })\n        ",
      "text/plain": [
       "<IPython.core.display.Javascript object>"
      ]
     },
     "metadata": {},
     "output_type": "display_data"
    },
    {
     "data": {
      "application/javascript": "\n        // We don't really need these require scripts. But this is to avert\n        //this code from running before display_input_sequence which DOES require external files\n        requirejs(['basic', 'ecco'], function(basic, ecco){\n                console.log('addToken viz_id', 'viz_782187');\n                window.ecco['viz_782187'].addToken({\"token\": \"\\u308d\\u304f\", \"is_partial\": true, \"token_id\": 12502, \"position\": 35, \"type\": \"output\"})\n                window.ecco['viz_782187'].redraw()\n        })\n        ",
      "text/plain": [
       "<IPython.core.display.Javascript object>"
      ]
     },
     "metadata": {},
     "output_type": "display_data"
    },
    {
     "data": {
      "application/javascript": "\n        // We don't really need these require scripts. But this is to avert\n        //this code from running before display_input_sequence which DOES require external files\n        requirejs(['basic', 'ecco'], function(basic, ecco){\n                console.log('addToken viz_id', 'viz_782187');\n                window.ecco['viz_782187'].addToken({\"token\": \"\\u3059\\u3044\", \"is_partial\": true, \"token_id\": 9964, \"position\": 36, \"type\": \"output\"})\n                window.ecco['viz_782187'].redraw()\n        })\n        ",
      "text/plain": [
       "<IPython.core.display.Javascript object>"
      ]
     },
     "metadata": {},
     "output_type": "display_data"
    },
    {
     "data": {
      "application/javascript": "\n        // We don't really need these require scripts. But this is to avert\n        //this code from running before display_input_sequence which DOES require external files\n        requirejs(['basic', 'ecco'], function(basic, ecco){\n                console.log('addToken viz_id', 'viz_782187');\n                window.ecco['viz_782187'].addToken({\"token\": \")\", \"is_partial\": true, \"token_id\": 14, \"position\": 37, \"type\": \"output\"})\n                window.ecco['viz_782187'].redraw()\n        })\n        ",
      "text/plain": [
       "<IPython.core.display.Javascript object>"
      ]
     },
     "metadata": {},
     "output_type": "display_data"
    },
    {
     "data": {
      "application/javascript": "\n        // We don't really need these require scripts. But this is to avert\n        //this code from running before display_input_sequence which DOES require external files\n        requirejs(['basic', 'ecco'], function(basic, ecco){\n                console.log('addToken viz_id', 'viz_782187');\n                window.ecco['viz_782187'].addToken({\"token\": \"\\u3068\\u547c\\u3070\\u308c\\u308b\", \"is_partial\": true, \"token_id\": 384, \"position\": 38, \"type\": \"output\"})\n                window.ecco['viz_782187'].redraw()\n        })\n        ",
      "text/plain": [
       "<IPython.core.display.Javascript object>"
      ]
     },
     "metadata": {},
     "output_type": "display_data"
    },
    {
     "data": {
      "application/javascript": "\n        // We don't really need these require scripts. But this is to avert\n        //this code from running before display_input_sequence which DOES require external files\n        requirejs(['basic', 'ecco'], function(basic, ecco){\n                console.log('addToken viz_id', 'viz_782187');\n                window.ecco['viz_782187'].addToken({\"token\": \"\\u3002\", \"is_partial\": true, \"token_id\": 8, \"position\": 39, \"type\": \"output\"})\n                window.ecco['viz_782187'].redraw()\n        })\n        ",
      "text/plain": [
       "<IPython.core.display.Javascript object>"
      ]
     },
     "metadata": {},
     "output_type": "display_data"
    },
    {
     "data": {
      "application/javascript": "\n        // We don't really need these require scripts. But this is to avert\n        //this code from running before display_input_sequence which DOES require external files\n        requirejs(['basic', 'ecco'], function(basic, ecco){\n                console.log('addToken viz_id', 'viz_782187');\n                window.ecco['viz_782187'].addToken({\"token\": \"\", \"is_partial\": true, \"token_id\": 9, \"position\": 40, \"type\": \"output\"})\n                window.ecco['viz_782187'].redraw()\n        })\n        ",
      "text/plain": [
       "<IPython.core.display.Javascript object>"
      ]
     },
     "metadata": {},
     "output_type": "display_data"
    },
    {
     "data": {
      "application/javascript": "\n        // We don't really need these require scripts. But this is to avert\n        //this code from running before display_input_sequence which DOES require external files\n        requirejs(['basic', 'ecco'], function(basic, ecco){\n                console.log('addToken viz_id', 'viz_782187');\n                window.ecco['viz_782187'].addToken({\"token\": \"\\u7532\", \"is_partial\": true, \"token_id\": 2386, \"position\": 41, \"type\": \"output\"})\n                window.ecco['viz_782187'].redraw()\n        })\n        ",
      "text/plain": [
       "<IPython.core.display.Javascript object>"
      ]
     },
     "metadata": {},
     "output_type": "display_data"
    },
    {
     "data": {
      "application/javascript": "\n        // We don't really need these require scripts. But this is to avert\n        //this code from running before display_input_sequence which DOES require external files\n        requirejs(['basic', 'ecco'], function(basic, ecco){\n                console.log('addToken viz_id', 'viz_782187');\n                window.ecco['viz_782187'].addToken({\"token\": \"(\", \"is_partial\": true, \"token_id\": 15, \"position\": 42, \"type\": \"output\"})\n                window.ecco['viz_782187'].redraw()\n        })\n        ",
      "text/plain": [
       "<IPython.core.display.Javascript object>"
      ]
     },
     "metadata": {},
     "output_type": "display_data"
    },
    {
     "data": {
      "application/javascript": "\n        // We don't really need these require scripts. But this is to avert\n        //this code from running before display_input_sequence which DOES require external files\n        requirejs(['basic', 'ecco'], function(basic, ecco){\n                console.log('addToken viz_id', 'viz_782187');\n                window.ecco['viz_782187'].addToken({\"token\": \"\\u3057\", \"is_partial\": true, \"token_id\": 32, \"position\": 43, \"type\": \"output\"})\n                window.ecco['viz_782187'].redraw()\n        })\n        ",
      "text/plain": [
       "<IPython.core.display.Javascript object>"
      ]
     },
     "metadata": {},
     "output_type": "display_data"
    },
    {
     "data": {
      "application/javascript": "\n        // We don't really need these require scripts. But this is to avert\n        //this code from running before display_input_sequence which DOES require external files\n        requirejs(['basic', 'ecco'], function(basic, ecco){\n                console.log('addToken viz_id', 'viz_782187');\n                window.ecco['viz_782187'].addToken({\"token\": \"\\u3061\", \"is_partial\": true, \"token_id\": 662, \"position\": 44, \"type\": \"output\"})\n                window.ecco['viz_782187'].redraw()\n        })\n        ",
      "text/plain": [
       "<IPython.core.display.Javascript object>"
      ]
     },
     "metadata": {},
     "output_type": "display_data"
    },
    {
     "data": {
      "application/javascript": "\n        // We don't really need these require scripts. But this is to avert\n        //this code from running before display_input_sequence which DOES require external files\n        requirejs(['basic', 'ecco'], function(basic, ecco){\n                console.log('addToken viz_id', 'viz_782187');\n                window.ecco['viz_782187'].addToken({\"token\": \"\\u304c\", \"is_partial\": true, \"token_id\": 12, \"position\": 45, \"type\": \"output\"})\n                window.ecco['viz_782187'].redraw()\n        })\n        ",
      "text/plain": [
       "<IPython.core.display.Javascript object>"
      ]
     },
     "metadata": {},
     "output_type": "display_data"
    },
    {
     "data": {
      "application/javascript": "\n        // We don't really need these require scripts. But this is to avert\n        //this code from running before display_input_sequence which DOES require external files\n        requirejs(['basic', 'ecco'], function(basic, ecco){\n                console.log('addToken viz_id', 'viz_782187');\n                window.ecco['viz_782187'].addToken({\"token\": \"\\u304c\", \"is_partial\": true, \"token_id\": 12, \"position\": 46, \"type\": \"output\"})\n                window.ecco['viz_782187'].redraw()\n        })\n        ",
      "text/plain": [
       "<IPython.core.display.Javascript object>"
      ]
     },
     "metadata": {},
     "output_type": "display_data"
    },
    {
     "data": {
      "application/javascript": "\n        // We don't really need these require scripts. But this is to avert\n        //this code from running before display_input_sequence which DOES require external files\n        requirejs(['basic', 'ecco'], function(basic, ecco){\n                console.log('addToken viz_id', 'viz_782187');\n                window.ecco['viz_782187'].addToken({\"token\": \")\", \"is_partial\": true, \"token_id\": 14, \"position\": 47, \"type\": \"output\"})\n                window.ecco['viz_782187'].redraw()\n        })\n        ",
      "text/plain": [
       "<IPython.core.display.Javascript object>"
      ]
     },
     "metadata": {},
     "output_type": "display_data"
    },
    {
     "data": {
      "application/javascript": "\n        // We don't really need these require scripts. But this is to avert\n        //this code from running before display_input_sequence which DOES require external files\n        requirejs(['basic', 'ecco'], function(basic, ecco){\n                console.log('addToken viz_id', 'viz_782187');\n                window.ecco['viz_782187'].addToken({\"token\": \"(\", \"is_partial\": true, \"token_id\": 119, \"position\": 48, \"type\": \"output\"})\n                window.ecco['viz_782187'].redraw()\n        })\n        ",
      "text/plain": [
       "<IPython.core.display.Javascript object>"
      ]
     },
     "metadata": {},
     "output_type": "display_data"
    },
    {
     "data": {
      "application/javascript": "\n        // We don't really need these require scripts. But this is to avert\n        //this code from running before display_input_sequence which DOES require external files\n        requirejs(['basic', 'ecco'], function(basic, ecco){\n                console.log('addToken viz_id', 'viz_782187');\n                window.ecco['viz_782187'].addToken({\"token\": \"\\u3057\", \"is_partial\": true, \"token_id\": 32, \"position\": 49, \"type\": \"output\"})\n                window.ecco['viz_782187'].redraw()\n        })\n        ",
      "text/plain": [
       "<IPython.core.display.Javascript object>"
      ]
     },
     "metadata": {},
     "output_type": "display_data"
    },
    {
     "data": {
      "application/javascript": "\n        // We don't really need these require scripts. But this is to avert\n        //this code from running before display_input_sequence which DOES require external files\n        requirejs(['basic', 'ecco'], function(basic, ecco){\n                console.log('addToken viz_id', 'viz_782187');\n                window.ecco['viz_782187'].addToken({\"token\": \"\\u3061\", \"is_partial\": true, \"token_id\": 662, \"position\": 50, \"type\": \"output\"})\n                window.ecco['viz_782187'].redraw()\n        })\n        ",
      "text/plain": [
       "<IPython.core.display.Javascript object>"
      ]
     },
     "metadata": {},
     "output_type": "display_data"
    },
    {
     "data": {
      "application/javascript": "\n        // We don't really need these require scripts. But this is to avert\n        //this code from running before display_input_sequence which DOES require external files\n        requirejs(['basic', 'ecco'], function(basic, ecco){\n                console.log('addToken viz_id', 'viz_782187');\n                window.ecco['viz_782187'].addToken({\"token\": \")\", \"is_partial\": true, \"token_id\": 14, \"position\": 51, \"type\": \"output\"})\n                window.ecco['viz_782187'].redraw()\n        })\n        ",
      "text/plain": [
       "<IPython.core.display.Javascript object>"
      ]
     },
     "metadata": {},
     "output_type": "display_data"
    },
    {
     "data": {
      "application/javascript": "\n        // We don't really need these require scripts. But this is to avert\n        //this code from running before display_input_sequence which DOES require external files\n        requirejs(['basic', 'ecco'], function(basic, ecco){\n                console.log('addToken viz_id', 'viz_782187');\n                window.ecco['viz_782187'].addToken({\"token\": \"\", \"is_partial\": true, \"token_id\": 9, \"position\": 52, \"type\": \"output\"})\n                window.ecco['viz_782187'].redraw()\n        })\n        ",
      "text/plain": [
       "<IPython.core.display.Javascript object>"
      ]
     },
     "metadata": {},
     "output_type": "display_data"
    },
    {
     "data": {
      "application/javascript": "\n        // We don't really need these require scripts. But this is to avert\n        //this code from running before display_input_sequence which DOES require external files\n        requirejs(['basic', 'ecco'], function(basic, ecco){\n                console.log('addToken viz_id', 'viz_782187');\n                window.ecco['viz_782187'].addToken({\"token\": \"\\u3068\\u306f\", \"is_partial\": true, \"token_id\": 208, \"position\": 53, \"type\": \"output\"})\n                window.ecco['viz_782187'].redraw()\n        })\n        ",
      "text/plain": [
       "<IPython.core.display.Javascript object>"
      ]
     },
     "metadata": {},
     "output_type": "display_data"
    },
    {
     "data": {
      "application/javascript": "\n        // We don't really need these require scripts. But this is to avert\n        //this code from running before display_input_sequence which DOES require external files\n        requirejs(['basic', 'ecco'], function(basic, ecco){\n                console.log('addToken viz_id', 'viz_782187');\n                window.ecco['viz_782187'].addToken({\"token\": \"\\u300c\", \"is_partial\": true, \"token_id\": 23, \"position\": 54, \"type\": \"output\"})\n                window.ecco['viz_782187'].redraw()\n        })\n        ",
      "text/plain": [
       "<IPython.core.display.Javascript object>"
      ]
     },
     "metadata": {},
     "output_type": "display_data"
    },
    {
     "data": {
      "application/javascript": "\n        // We don't really need these require scripts. But this is to avert\n        //this code from running before display_input_sequence which DOES require external files\n        requirejs(['basic', 'ecco'], function(basic, ecco){\n                console.log('addToken viz_id', 'viz_782187');\n                window.ecco['viz_782187'].addToken({\"token\": \"\\u91ce\", \"is_partial\": true, \"token_id\": 248, \"position\": 55, \"type\": \"output\"})\n                window.ecco['viz_782187'].redraw()\n        })\n        ",
      "text/plain": [
       "<IPython.core.display.Javascript object>"
      ]
     },
     "metadata": {},
     "output_type": "display_data"
    },
    {
     "data": {
      "application/javascript": "\n        // We don't really need these require scripts. But this is to avert\n        //this code from running before display_input_sequence which DOES require external files\n        requirejs(['basic', 'ecco'], function(basic, ecco){\n                console.log('addToken viz_id', 'viz_782187');\n                window.ecco['viz_782187'].addToken({\"token\": \"\\u306e\", \"is_partial\": true, \"token_id\": 10, \"position\": 56, \"type\": \"output\"})\n                window.ecco['viz_782187'].redraw()\n        })\n        ",
      "text/plain": [
       "<IPython.core.display.Javascript object>"
      ]
     },
     "metadata": {},
     "output_type": "display_data"
    },
    {
     "data": {
      "application/javascript": "\n        // We don't really need these require scripts. But this is to avert\n        //this code from running before display_input_sequence which DOES require external files\n        requirejs(['basic', 'ecco'], function(basic, ecco){\n                console.log('addToken viz_id', 'viz_782187');\n                window.ecco['viz_782187'].addToken({\"token\": \"\\u300d\", \"is_partial\": true, \"token_id\": 21, \"position\": 57, \"type\": \"output\"})\n                window.ecco['viz_782187'].redraw()\n        })\n        ",
      "text/plain": [
       "<IPython.core.display.Javascript object>"
      ]
     },
     "metadata": {},
     "output_type": "display_data"
    },
    {
     "data": {
      "application/javascript": "\n        // We don't really need these require scripts. But this is to avert\n        //this code from running before display_input_sequence which DOES require external files\n        requirejs(['basic', 'ecco'], function(basic, ecco){\n                console.log('addToken viz_id', 'viz_782187');\n                window.ecco['viz_782187'].addToken({\"token\": \"\\u306e\\u610f\\u5473\", \"is_partial\": true, \"token_id\": 3717, \"position\": 58, \"type\": \"output\"})\n                window.ecco['viz_782187'].redraw()\n        })\n        ",
      "text/plain": [
       "<IPython.core.display.Javascript object>"
      ]
     },
     "metadata": {},
     "output_type": "display_data"
    },
    {
     "data": {
      "application/javascript": "\n        // We don't really need these require scripts. But this is to avert\n        //this code from running before display_input_sequence which DOES require external files\n        requirejs(['basic', 'ecco'], function(basic, ecco){\n                console.log('addToken viz_id', 'viz_782187');\n                window.ecco['viz_782187'].addToken({\"token\": \"\\u3067\\u4f7f\\u308f\\u308c\\u308b\", \"is_partial\": true, \"token_id\": 17634, \"position\": 59, \"type\": \"output\"})\n                window.ecco['viz_782187'].redraw()\n        })\n        ",
      "text/plain": [
       "<IPython.core.display.Javascript object>"
      ]
     },
     "metadata": {},
     "output_type": "display_data"
    },
    {
     "data": {
      "application/javascript": "\n        // We don't really need these require scripts. But this is to avert\n        //this code from running before display_input_sequence which DOES require external files\n        requirejs(['basic', 'ecco'], function(basic, ecco){\n                console.log('addToken viz_id', 'viz_782187');\n                window.ecco['viz_782187'].addToken({\"token\": \"\\u8a00\\u8449\", \"is_partial\": true, \"token_id\": 2261, \"position\": 60, \"type\": \"output\"})\n                window.ecco['viz_782187'].redraw()\n        })\n        ",
      "text/plain": [
       "<IPython.core.display.Javascript object>"
      ]
     },
     "metadata": {},
     "output_type": "display_data"
    },
    {
     "data": {
      "application/javascript": "\n        // We don't really need these require scripts. But this is to avert\n        //this code from running before display_input_sequence which DOES require external files\n        requirejs(['basic', 'ecco'], function(basic, ecco){\n                console.log('addToken viz_id', 'viz_782187');\n                window.ecco['viz_782187'].addToken({\"token\": \"\\u3068\\u3044\\u3046\\u610f\\u5473\\u3067\", \"is_partial\": true, \"token_id\": 14550, \"position\": 61, \"type\": \"output\"})\n                window.ecco['viz_782187'].redraw()\n        })\n        ",
      "text/plain": [
       "<IPython.core.display.Javascript object>"
      ]
     },
     "metadata": {},
     "output_type": "display_data"
    },
    {
     "data": {
      "application/javascript": "\n        // We don't really need these require scripts. But this is to avert\n        //this code from running before display_input_sequence which DOES require external files\n        requirejs(['basic', 'ecco'], function(basic, ecco){\n                console.log('addToken viz_id', 'viz_782187');\n                window.ecco['viz_782187'].addToken({\"token\": \"\\u3001\\u300c\", \"is_partial\": true, \"token_id\": 93, \"position\": 62, \"type\": \"output\"})\n                window.ecco['viz_782187'].redraw()\n        })\n        ",
      "text/plain": [
       "<IPython.core.display.Javascript object>"
      ]
     },
     "metadata": {},
     "output_type": "display_data"
    },
    {
     "data": {
      "application/javascript": "\n        // We don't really need these require scripts. But this is to avert\n        //this code from running before display_input_sequence which DOES require external files\n        requirejs(['basic', 'ecco'], function(basic, ecco){\n                console.log('addToken viz_id', 'viz_782187');\n                window.ecco['viz_782187'].addToken({\"token\": \"\\u5420\", \"is_partial\": true, \"token_id\": 31107, \"position\": 63, \"type\": \"output\"})\n                window.ecco['viz_782187'].redraw()\n        })\n        ",
      "text/plain": [
       "<IPython.core.display.Javascript object>"
      ]
     },
     "metadata": {},
     "output_type": "display_data"
    },
    {
     "data": {
      "application/javascript": "\n        // We don't really need these require scripts. But this is to avert\n        //this code from running before display_input_sequence which DOES require external files\n        requirejs(['basic', 'ecco'], function(basic, ecco){\n                console.log('addToken viz_id', 'viz_782187');\n                window.ecco['viz_782187'].addToken({\"token\": \"\\u3048\", \"is_partial\": true, \"token_id\": 635, \"position\": 64, \"type\": \"output\"})\n                window.ecco['viz_782187'].redraw()\n        })\n        ",
      "text/plain": [
       "<IPython.core.display.Javascript object>"
      ]
     },
     "metadata": {},
     "output_type": "display_data"
    },
    {
     "data": {
      "application/javascript": "\n        // We don't really need these require scripts. But this is to avert\n        //this code from running before display_input_sequence which DOES require external files\n        requirejs(['basic', 'ecco'], function(basic, ecco){\n                console.log('addToken viz_id', 'viz_782187');\n                window.ecco['viz_782187'].addToken({\"token\": \"\\u300d\", \"is_partial\": true, \"token_id\": 21, \"position\": 65, \"type\": \"output\"})\n                window.ecco['viz_782187'].redraw()\n        })\n        ",
      "text/plain": [
       "<IPython.core.display.Javascript object>"
      ]
     },
     "metadata": {},
     "output_type": "display_data"
    },
    {
     "data": {
      "application/javascript": "\n        // We don't really need these require scripts. But this is to avert\n        //this code from running before display_input_sequence which DOES require external files\n        requirejs(['basic', 'ecco'], function(basic, ecco){\n                console.log('addToken viz_id', 'viz_782187');\n                window.ecco['viz_782187'].addToken({\"token\": \"\\u3092\\u610f\\u5473\\u3059\\u308b\", \"is_partial\": true, \"token_id\": 1964, \"position\": 66, \"type\": \"output\"})\n                window.ecco['viz_782187'].redraw()\n        })\n        ",
      "text/plain": [
       "<IPython.core.display.Javascript object>"
      ]
     },
     "metadata": {},
     "output_type": "display_data"
    },
    {
     "data": {
      "application/javascript": "\n        // We don't really need these require scripts. But this is to avert\n        //this code from running before display_input_sequence which DOES require external files\n        requirejs(['basic', 'ecco'], function(basic, ecco){\n                console.log('addToken viz_id', 'viz_782187');\n                window.ecco['viz_782187'].addToken({\"token\": \"\\u3002\", \"is_partial\": true, \"token_id\": 8, \"position\": 67, \"type\": \"output\"})\n                window.ecco['viz_782187'].redraw()\n        })\n        ",
      "text/plain": [
       "<IPython.core.display.Javascript object>"
      ]
     },
     "metadata": {},
     "output_type": "display_data"
    },
    {
     "data": {
      "application/javascript": "\n        // We don't really need these require scripts. But this is to avert\n        //this code from running before display_input_sequence which DOES require external files\n        requirejs(['basic', 'ecco'], function(basic, ecco){\n                console.log('addToken viz_id', 'viz_782187');\n                window.ecco['viz_782187'].addToken({\"token\": \"\\u300c\", \"is_partial\": true, \"token_id\": 235, \"position\": 68, \"type\": \"output\"})\n                window.ecco['viz_782187'].redraw()\n        })\n        ",
      "text/plain": [
       "<IPython.core.display.Javascript object>"
      ]
     },
     "metadata": {},
     "output_type": "display_data"
    },
    {
     "data": {
      "application/javascript": "\n        // We don't really need these require scripts. But this is to avert\n        //this code from running before display_input_sequence which DOES require external files\n        requirejs(['basic', 'ecco'], function(basic, ecco){\n                console.log('addToken viz_id', 'viz_782187');\n                window.ecco['viz_782187'].addToken({\"token\": \"\\u91ce\", \"is_partial\": true, \"token_id\": 248, \"position\": 69, \"type\": \"output\"})\n                window.ecco['viz_782187'].redraw()\n        })\n        ",
      "text/plain": [
       "<IPython.core.display.Javascript object>"
      ]
     },
     "metadata": {},
     "output_type": "display_data"
    },
    {
     "data": {
      "application/javascript": "\n        // We don't really need these require scripts. But this is to avert\n        //this code from running before display_input_sequence which DOES require external files\n        requirejs(['basic', 'ecco'], function(basic, ecco){\n                console.log('addToken viz_id', 'viz_782187');\n                window.ecco['viz_782187'].addToken({\"token\": \"\\u306e\", \"is_partial\": true, \"token_id\": 10, \"position\": 70, \"type\": \"output\"})\n                window.ecco['viz_782187'].redraw()\n        })\n        ",
      "text/plain": [
       "<IPython.core.display.Javascript object>"
      ]
     },
     "metadata": {},
     "output_type": "display_data"
    },
    {
     "data": {
      "application/javascript": "\n        // We don't really need these require scripts. But this is to avert\n        //this code from running before display_input_sequence which DOES require external files\n        requirejs(['basic', 'ecco'], function(basic, ecco){\n                console.log('addToken viz_id', 'viz_782187');\n                window.ecco['viz_782187'].addToken({\"token\": \"\\u300d\", \"is_partial\": true, \"token_id\": 21, \"position\": 71, \"type\": \"output\"})\n                window.ecco['viz_782187'].redraw()\n        })\n        ",
      "text/plain": [
       "<IPython.core.display.Javascript object>"
      ]
     },
     "metadata": {},
     "output_type": "display_data"
    },
    {
     "data": {
      "application/javascript": "\n        // We don't really need these require scripts. But this is to avert\n        //this code from running before display_input_sequence which DOES require external files\n        requirejs(['basic', 'ecco'], function(basic, ecco){\n                console.log('addToken viz_id', 'viz_782187');\n                window.ecco['viz_782187'].addToken({\"token\": \"\\u3068\\u3044\\u3046\\u8a9e\", \"is_partial\": true, \"token_id\": 17302, \"position\": 72, \"type\": \"output\"})\n                window.ecco['viz_782187'].redraw()\n        })\n        ",
      "text/plain": [
       "<IPython.core.display.Javascript object>"
      ]
     },
     "metadata": {},
     "output_type": "display_data"
    },
    {
     "data": {
      "application/javascript": "\n        // We don't really need these require scripts. But this is to avert\n        //this code from running before display_input_sequence which DOES require external files\n        requirejs(['basic', 'ecco'], function(basic, ecco){\n                console.log('addToken viz_id', 'viz_782187');\n                window.ecco['viz_782187'].addToken({\"token\": \"\\u306f\", \"is_partial\": true, \"token_id\": 11, \"position\": 73, \"type\": \"output\"})\n                window.ecco['viz_782187'].redraw()\n        })\n        ",
      "text/plain": [
       "<IPython.core.display.Javascript object>"
      ]
     },
     "metadata": {},
     "output_type": "display_data"
    },
    {
     "data": {
      "application/javascript": "\n        // We don't really need these require scripts. But this is to avert\n        //this code from running before display_input_sequence which DOES require external files\n        requirejs(['basic', 'ecco'], function(basic, ecco){\n                console.log('addToken viz_id', 'viz_782187');\n                window.ecco['viz_782187'].addToken({\"token\": \"\\u3001\", \"is_partial\": true, \"token_id\": 7, \"position\": 74, \"type\": \"output\"})\n                window.ecco['viz_782187'].redraw()\n        })\n        ",
      "text/plain": [
       "<IPython.core.display.Javascript object>"
      ]
     },
     "metadata": {},
     "output_type": "display_data"
    },
    {
     "data": {
      "application/javascript": "\n        // We don't really need these require scripts. But this is to avert\n        //this code from running before display_input_sequence which DOES require external files\n        requirejs(['basic', 'ecco'], function(basic, ecco){\n                console.log('addToken viz_id', 'viz_782187');\n                window.ecco['viz_782187'].addToken({\"token\": \"\\u7532\", \"is_partial\": true, \"token_id\": 2386, \"position\": 75, \"type\": \"output\"})\n                window.ecco['viz_782187'].redraw()\n        })\n        ",
      "text/plain": [
       "<IPython.core.display.Javascript object>"
      ]
     },
     "metadata": {},
     "output_type": "display_data"
    },
    {
     "data": {
      "application/javascript": "\n        // We don't really need these require scripts. But this is to avert\n        //this code from running before display_input_sequence which DOES require external files\n        requirejs(['basic', 'ecco'], function(basic, ecco){\n                console.log('addToken viz_id', 'viz_782187');\n                window.ecco['viz_782187'].addToken({\"token\": \"\\u306b\\u3088\\u3063\\u3066\", \"is_partial\": true, \"token_id\": 73, \"position\": 76, \"type\": \"output\"})\n                window.ecco['viz_782187'].redraw()\n        })\n        ",
      "text/plain": [
       "<IPython.core.display.Javascript object>"
      ]
     },
     "metadata": {},
     "output_type": "display_data"
    },
    {
     "data": {
      "application/javascript": "\n        // We don't really need these require scripts. But this is to avert\n        //this code from running before display_input_sequence which DOES require external files\n        requirejs(['basic', 'ecco'], function(basic, ecco){\n                console.log('addToken viz_id', 'viz_782187');\n                window.ecco['viz_782187'].addToken({\"token\": \"\\u8a00\\u8449\", \"is_partial\": true, \"token_id\": 2261, \"position\": 77, \"type\": \"output\"})\n                window.ecco['viz_782187'].redraw()\n        })\n        ",
      "text/plain": [
       "<IPython.core.display.Javascript object>"
      ]
     },
     "metadata": {},
     "output_type": "display_data"
    },
    {
     "data": {
      "application/javascript": "\n        // We don't really need these require scripts. But this is to avert\n        //this code from running before display_input_sequence which DOES require external files\n        requirejs(['basic', 'ecco'], function(basic, ecco){\n                console.log('addToken viz_id', 'viz_782187');\n                window.ecco['viz_782187'].addToken({\"token\": \"\\u304c\\u7570\\u306a\\u308b\", \"is_partial\": true, \"token_id\": 4057, \"position\": 78, \"type\": \"output\"})\n                window.ecco['viz_782187'].redraw()\n        })\n        ",
      "text/plain": [
       "<IPython.core.display.Javascript object>"
      ]
     },
     "metadata": {},
     "output_type": "display_data"
    },
    {
     "data": {
      "application/javascript": "\n        // We don't really need these require scripts. But this is to avert\n        //this code from running before display_input_sequence which DOES require external files\n        requirejs(['basic', 'ecco'], function(basic, ecco){\n                console.log('addToken viz_id', 'viz_782187');\n                window.ecco['viz_782187'].addToken({\"token\": \"\\u3002\", \"is_partial\": true, \"token_id\": 8, \"position\": 79, \"type\": \"output\"})\n                window.ecco['viz_782187'].redraw()\n        })\n        ",
      "text/plain": [
       "<IPython.core.display.Javascript object>"
      ]
     },
     "metadata": {},
     "output_type": "display_data"
    },
    {
     "data": {
      "application/javascript": "\n        // We don't really need these require scripts. But this is to avert\n        //this code from running before display_input_sequence which DOES require external files\n        requirejs(['basic', 'ecco'], function(basic, ecco){\n                console.log('addToken viz_id', 'viz_782187');\n                window.ecco['viz_782187'].addToken({\"token\": \"\", \"is_partial\": true, \"token_id\": 9, \"position\": 80, \"type\": \"output\"})\n                window.ecco['viz_782187'].redraw()\n        })\n        ",
      "text/plain": [
       "<IPython.core.display.Javascript object>"
      ]
     },
     "metadata": {},
     "output_type": "display_data"
    },
    {
     "data": {
      "application/javascript": "\n        // We don't really need these require scripts. But this is to avert\n        //this code from running before display_input_sequence which DOES require external files\n        requirejs(['basic', 'ecco'], function(basic, ecco){\n                console.log('addToken viz_id', 'viz_782187');\n                window.ecco['viz_782187'].addToken({\"token\": \"\\u72ac\", \"is_partial\": true, \"token_id\": 1651, \"position\": 81, \"type\": \"output\"})\n                window.ecco['viz_782187'].redraw()\n        })\n        ",
      "text/plain": [
       "<IPython.core.display.Javascript object>"
      ]
     },
     "metadata": {},
     "output_type": "display_data"
    },
    {
     "data": {
      "application/javascript": "\n        // We don't really need these require scripts. But this is to avert\n        //this code from running before display_input_sequence which DOES require external files\n        requirejs(['basic', 'ecco'], function(basic, ecco){\n                console.log('addToken viz_id', 'viz_782187');\n                window.ecco['viz_782187'].addToken({\"token\": \"\\u306f\", \"is_partial\": true, \"token_id\": 11, \"position\": 82, \"type\": \"output\"})\n                window.ecco['viz_782187'].redraw()\n        })\n        ",
      "text/plain": [
       "<IPython.core.display.Javascript object>"
      ]
     },
     "metadata": {},
     "output_type": "display_data"
    },
    {
     "data": {
      "application/javascript": "\n        // We don't really need these require scripts. But this is to avert\n        //this code from running before display_input_sequence which DOES require external files\n        requirejs(['basic', 'ecco'], function(basic, ecco){\n                console.log('addToken viz_id', 'viz_782187');\n                window.ecco['viz_782187'].addToken({\"token\": \"\\u3001\", \"is_partial\": true, \"token_id\": 7, \"position\": 83, \"type\": \"output\"})\n                window.ecco['viz_782187'].redraw()\n        })\n        ",
      "text/plain": [
       "<IPython.core.display.Javascript object>"
      ]
     },
     "metadata": {},
     "output_type": "display_data"
    },
    {
     "data": {
      "application/javascript": "\n        // We don't really need these require scripts. But this is to avert\n        //this code from running before display_input_sequence which DOES require external files\n        requirejs(['basic', 'ecco'], function(basic, ecco){\n                console.log('addToken viz_id', 'viz_782187');\n                window.ecco['viz_782187'].addToken({\"token\": \"\\u72ac\", \"is_partial\": true, \"token_id\": 1651, \"position\": 84, \"type\": \"output\"})\n                window.ecco['viz_782187'].redraw()\n        })\n        ",
      "text/plain": [
       "<IPython.core.display.Javascript object>"
      ]
     },
     "metadata": {},
     "output_type": "display_data"
    },
    {
     "data": {
      "application/javascript": "\n        // We don't really need these require scripts. But this is to avert\n        //this code from running before display_input_sequence which DOES require external files\n        requirejs(['basic', 'ecco'], function(basic, ecco){\n                console.log('addToken viz_id', 'viz_782187');\n                window.ecco['viz_782187'].addToken({\"token\": \"\\u3092\", \"is_partial\": true, \"token_id\": 18, \"position\": 85, \"type\": \"output\"})\n                window.ecco['viz_782187'].redraw()\n        })\n        ",
      "text/plain": [
       "<IPython.core.display.Javascript object>"
      ]
     },
     "metadata": {},
     "output_type": "display_data"
    },
    {
     "data": {
      "application/javascript": "\n        // We don't really need these require scripts. But this is to avert\n        //this code from running before display_input_sequence which DOES require external files\n        requirejs(['basic', 'ecco'], function(basic, ecco){\n                console.log('addToken viz_id', 'viz_782187');\n                window.ecco['viz_782187'].addToken({\"token\": \"\\u53e3\", \"is_partial\": true, \"token_id\": 424, \"position\": 86, \"type\": \"output\"})\n                window.ecco['viz_782187'].redraw()\n        })\n        ",
      "text/plain": [
       "<IPython.core.display.Javascript object>"
      ]
     },
     "metadata": {},
     "output_type": "display_data"
    },
    {
     "data": {
      "application/javascript": "\n        // We don't really need these require scripts. But this is to avert\n        //this code from running before display_input_sequence which DOES require external files\n        requirejs(['basic', 'ecco'], function(basic, ecco){\n                console.log('addToken viz_id', 'viz_782187');\n                window.ecco['viz_782187'].addToken({\"token\": \"\\u4e0a\", \"is_partial\": true, \"token_id\": 113, \"position\": 87, \"type\": \"output\"})\n                window.ecco['viz_782187'].redraw()\n        })\n        ",
      "text/plain": [
       "<IPython.core.display.Javascript object>"
      ]
     },
     "metadata": {},
     "output_type": "display_data"
    },
    {
     "data": {
      "application/javascript": "\n        // We don't really need these require scripts. But this is to avert\n        //this code from running before display_input_sequence which DOES require external files\n        requirejs(['basic', 'ecco'], function(basic, ecco){\n                console.log('addToken viz_id', 'viz_782187');\n                window.ecco['viz_782187'].addToken({\"token\": \"\\u306b\\u304a\\u3044\\u3066\", \"is_partial\": true, \"token_id\": 125, \"position\": 88, \"type\": \"output\"})\n                window.ecco['viz_782187'].redraw()\n        })\n        ",
      "text/plain": [
       "<IPython.core.display.Javascript object>"
      ]
     },
     "metadata": {},
     "output_type": "display_data"
    },
    {
     "data": {
      "application/javascript": "\n        // We don't really need these require scripts. But this is to avert\n        //this code from running before display_input_sequence which DOES require external files\n        requirejs(['basic', 'ecco'], function(basic, ecco){\n                console.log('addToken viz_id', 'viz_782187');\n                window.ecco['viz_782187'].addToken({\"token\": \"\\u300c\", \"is_partial\": true, \"token_id\": 23, \"position\": 89, \"type\": \"output\"})\n                window.ecco['viz_782187'].redraw()\n        })\n        ",
      "text/plain": [
       "<IPython.core.display.Javascript object>"
      ]
     },
     "metadata": {},
     "output_type": "display_data"
    },
    {
     "data": {
      "application/javascript": "\n        // We don't really need these require scripts. But this is to avert\n        //this code from running before display_input_sequence which DOES require external files\n        requirejs(['basic', 'ecco'], function(basic, ecco){\n                console.log('addToken viz_id', 'viz_782187');\n                window.ecco['viz_782187'].addToken({\"token\": \"\\u5bdd\", \"is_partial\": true, \"token_id\": 4518, \"position\": 90, \"type\": \"output\"})\n                window.ecco['viz_782187'].redraw()\n        })\n        ",
      "text/plain": [
       "<IPython.core.display.Javascript object>"
      ]
     },
     "metadata": {},
     "output_type": "display_data"
    },
    {
     "data": {
      "application/javascript": "\n        // We don't really need these require scripts. But this is to avert\n        //this code from running before display_input_sequence which DOES require external files\n        requirejs(['basic', 'ecco'], function(basic, ecco){\n                console.log('addToken viz_id', 'viz_782187');\n                window.ecco['viz_782187'].addToken({\"token\": \"\\u304b\", \"is_partial\": true, \"token_id\": 95, \"position\": 91, \"type\": \"output\"})\n                window.ecco['viz_782187'].redraw()\n        })\n        ",
      "text/plain": [
       "<IPython.core.display.Javascript object>"
      ]
     },
     "metadata": {},
     "output_type": "display_data"
    },
    {
     "data": {
      "application/javascript": "\n        // We don't really need these require scripts. But this is to avert\n        //this code from running before display_input_sequence which DOES require external files\n        requirejs(['basic', 'ecco'], function(basic, ecco){\n                console.log('addToken viz_id', 'viz_782187');\n                window.ecco['viz_782187'].addToken({\"token\": \"\\u3057\\u3066\", \"is_partial\": true, \"token_id\": 55, \"position\": 92, \"type\": \"output\"})\n                window.ecco['viz_782187'].redraw()\n        })\n        ",
      "text/plain": [
       "<IPython.core.display.Javascript object>"
      ]
     },
     "metadata": {},
     "output_type": "display_data"
    },
    {
     "data": {
      "application/javascript": "\n        // We don't really need these require scripts. But this is to avert\n        //this code from running before display_input_sequence which DOES require external files\n        requirejs(['basic', 'ecco'], function(basic, ecco){\n                console.log('addToken viz_id', 'viz_782187');\n                window.ecco['viz_782187'].addToken({\"token\": \"\\u3054\", \"is_partial\": true, \"token_id\": 913, \"position\": 93, \"type\": \"output\"})\n                window.ecco['viz_782187'].redraw()\n        })\n        ",
      "text/plain": [
       "<IPython.core.display.Javascript object>"
      ]
     },
     "metadata": {},
     "output_type": "display_data"
    },
    {
     "data": {
      "application/javascript": "\n        // We don't really need these require scripts. But this is to avert\n        //this code from running before display_input_sequence which DOES require external files\n        requirejs(['basic', 'ecco'], function(basic, ecco){\n                console.log('addToken viz_id', 'viz_782187');\n                window.ecco['viz_782187'].addToken({\"token\": \"\\u307e\", \"is_partial\": true, \"token_id\": 428, \"position\": 94, \"type\": \"output\"})\n                window.ecco['viz_782187'].redraw()\n        })\n        ",
      "text/plain": [
       "<IPython.core.display.Javascript object>"
      ]
     },
     "metadata": {},
     "output_type": "display_data"
    },
    {
     "data": {
      "application/javascript": "\n        // We don't really need these require scripts. But this is to avert\n        //this code from running before display_input_sequence which DOES require external files\n        requirejs(['basic', 'ecco'], function(basic, ecco){\n                console.log('addToken viz_id', 'viz_782187');\n                window.ecco['viz_782187'].addToken({\"token\": \"\\u304b\", \"is_partial\": true, \"token_id\": 95, \"position\": 95, \"type\": \"output\"})\n                window.ecco['viz_782187'].redraw()\n        })\n        ",
      "text/plain": [
       "<IPython.core.display.Javascript object>"
      ]
     },
     "metadata": {},
     "output_type": "display_data"
    },
    {
     "data": {
      "application/javascript": "\n        // We don't really need these require scripts. But this is to avert\n        //this code from running before display_input_sequence which DOES require external files\n        requirejs(['basic', 'ecco'], function(basic, ecco){\n                console.log('addToken viz_id', 'viz_782187');\n                window.ecco['viz_782187'].addToken({\"token\": \"\\u3055\\u308c\\u305f\", \"is_partial\": true, \"token_id\": 53, \"position\": 96, \"type\": \"output\"})\n                window.ecco['viz_782187'].redraw()\n        })\n        ",
      "text/plain": [
       "<IPython.core.display.Javascript object>"
      ]
     },
     "metadata": {},
     "output_type": "display_data"
    },
    {
     "data": {
      "application/javascript": "\n        // We don't really need these require scripts. But this is to avert\n        //this code from running before display_input_sequence which DOES require external files\n        requirejs(['basic', 'ecco'], function(basic, ecco){\n                console.log('addToken viz_id', 'viz_782187');\n                window.ecco['viz_782187'].addToken({\"token\": \"\\u300d\", \"is_partial\": true, \"token_id\": 21, \"position\": 97, \"type\": \"output\"})\n                window.ecco['viz_782187'].redraw()\n        })\n        ",
      "text/plain": [
       "<IPython.core.display.Javascript object>"
      ]
     },
     "metadata": {},
     "output_type": "display_data"
    },
    {
     "data": {
      "application/javascript": "\n        // We don't really need these require scripts. But this is to avert\n        //this code from running before display_input_sequence which DOES require external files\n        requirejs(['basic', 'ecco'], function(basic, ecco){\n                console.log('addToken viz_id', 'viz_782187');\n                window.ecco['viz_782187'].addToken({\"token\": \"\\u3053\\u3068\\u3092\\u610f\\u5473\\u3059\\u308b\", \"is_partial\": true, \"token_id\": 18437, \"position\": 98, \"type\": \"output\"})\n                window.ecco['viz_782187'].redraw()\n        })\n        ",
      "text/plain": [
       "<IPython.core.display.Javascript object>"
      ]
     },
     "metadata": {},
     "output_type": "display_data"
    },
    {
     "data": {
      "application/javascript": "\n        // We don't really need these require scripts. But this is to avert\n        //this code from running before display_input_sequence which DOES require external files\n        requirejs(['basic', 'ecco'], function(basic, ecco){\n                console.log('addToken viz_id', 'viz_782187');\n                window.ecco['viz_782187'].addToken({\"token\": \"\\u3002\", \"is_partial\": true, \"token_id\": 8, \"position\": 99, \"type\": \"output\"})\n                window.ecco['viz_782187'].redraw()\n        })\n        ",
      "text/plain": [
       "<IPython.core.display.Javascript object>"
      ]
     },
     "metadata": {},
     "output_type": "display_data"
    },
    {
     "data": {
      "application/javascript": "\n        // We don't really need these require scripts. But this is to avert\n        //this code from running before display_input_sequence which DOES require external files\n        requirejs(['basic', 'ecco'], function(basic, ecco){\n                console.log('addToken viz_id', 'viz_782187');\n                window.ecco['viz_782187'].addToken({\"token\": \"\", \"is_partial\": true, \"token_id\": 9, \"position\": 100, \"type\": \"output\"})\n                window.ecco['viz_782187'].redraw()\n        })\n        ",
      "text/plain": [
       "<IPython.core.display.Javascript object>"
      ]
     },
     "metadata": {},
     "output_type": "display_data"
    },
    {
     "data": {
      "application/javascript": "\n        // We don't really need these require scripts. But this is to avert\n        //this code from running before display_input_sequence which DOES require external files\n        requirejs(['basic', 'ecco'], function(basic, ecco){\n                console.log('addToken viz_id', 'viz_782187');\n                window.ecco['viz_782187'].addToken({\"token\": \"\\u91ce\", \"is_partial\": true, \"token_id\": 248, \"position\": 101, \"type\": \"output\"})\n                window.ecco['viz_782187'].redraw()\n        })\n        ",
      "text/plain": [
       "<IPython.core.display.Javascript object>"
      ]
     },
     "metadata": {},
     "output_type": "display_data"
    },
    {
     "data": {
      "application/javascript": "\n        // We don't really need these require scripts. But this is to avert\n        //this code from running before display_input_sequence which DOES require external files\n        requirejs(['basic', 'ecco'], function(basic, ecco){\n                console.log('addToken viz_id', 'viz_782187');\n                window.ecco['viz_782187'].addToken({\"token\": \"\\u6bdb\", \"is_partial\": true, \"token_id\": 1280, \"position\": 102, \"type\": \"output\"})\n                window.ecco['viz_782187'].redraw()\n        })\n        ",
      "text/plain": [
       "<IPython.core.display.Javascript object>"
      ]
     },
     "metadata": {},
     "output_type": "display_data"
    },
    {
     "data": {
      "application/javascript": "\n        // We don't really need these require scripts. But this is to avert\n        //this code from running before display_input_sequence which DOES require external files\n        requirejs(['basic', 'ecco'], function(basic, ecco){\n                console.log('addToken viz_id', 'viz_782187');\n                window.ecco['viz_782187'].addToken({\"token\": \"(\", \"is_partial\": true, \"token_id\": 15, \"position\": 103, \"type\": \"output\"})\n                window.ecco['viz_782187'].redraw()\n        })\n        ",
      "text/plain": [
       "<IPython.core.display.Javascript object>"
      ]
     },
     "metadata": {},
     "output_type": "display_data"
    },
    {
     "data": {
      "application/javascript": "\n        // We don't really need these require scripts. But this is to avert\n        //this code from running before display_input_sequence which DOES require external files\n        requirejs(['basic', 'ecco'], function(basic, ecco){\n                console.log('addToken viz_id', 'viz_782187');\n                window.ecco['viz_782187'].addToken({\"token\": \"\\u308d\\u304f\", \"is_partial\": true, \"token_id\": 12502, \"position\": 104, \"type\": \"output\"})\n                window.ecco['viz_782187'].redraw()\n        })\n        ",
      "text/plain": [
       "<IPython.core.display.Javascript object>"
      ]
     },
     "metadata": {},
     "output_type": "display_data"
    },
    {
     "data": {
      "application/javascript": "\n        // We don't really need these require scripts. But this is to avert\n        //this code from running before display_input_sequence which DOES require external files\n        requirejs(['basic', 'ecco'], function(basic, ecco){\n                console.log('addToken viz_id', 'viz_782187');\n                window.ecco['viz_782187'].addToken({\"token\": \"\\u3059\\u3044\", \"is_partial\": true, \"token_id\": 9964, \"position\": 105, \"type\": \"output\"})\n                window.ecco['viz_782187'].redraw()\n        })\n        ",
      "text/plain": [
       "<IPython.core.display.Javascript object>"
      ]
     },
     "metadata": {},
     "output_type": "display_data"
    },
    {
     "data": {
      "application/javascript": "\n        // We don't really need these require scripts. But this is to avert\n        //this code from running before display_input_sequence which DOES require external files\n        requirejs(['basic', 'ecco'], function(basic, ecco){\n                console.log('addToken viz_id', 'viz_782187');\n                window.ecco['viz_782187'].addToken({\"token\": \"\\u3053\", \"is_partial\": true, \"token_id\": 315, \"position\": 106, \"type\": \"output\"})\n                window.ecco['viz_782187'].redraw()\n        })\n        ",
      "text/plain": [
       "<IPython.core.display.Javascript object>"
      ]
     },
     "metadata": {},
     "output_type": "display_data"
    },
    {
     "data": {
      "application/javascript": "\n        // We don't really need these require scripts. But this is to avert\n        //this code from running before display_input_sequence which DOES require external files\n        requirejs(['basic', 'ecco'], function(basic, ecco){\n                console.log('addToken viz_id', 'viz_782187');\n                window.ecco['viz_782187'].addToken({\"token\": \"\\u3058\", \"is_partial\": true, \"token_id\": 626, \"position\": 107, \"type\": \"output\"})\n                window.ecco['viz_782187'].redraw()\n        })\n        ",
      "text/plain": [
       "<IPython.core.display.Javascript object>"
      ]
     },
     "metadata": {},
     "output_type": "display_data"
    },
    {
     "data": {
      "application/javascript": "\n        // We don't really need these require scripts. But this is to avert\n        //this code from running before display_input_sequence which DOES require external files\n        requirejs(['basic', 'ecco'], function(basic, ecco){\n                console.log('addToken viz_id', 'viz_782187');\n                window.ecco['viz_782187'].addToken({\"token\": \"\\u3093\", \"is_partial\": true, \"token_id\": 1260, \"position\": 108, \"type\": \"output\"})\n                window.ecco['viz_782187'].redraw()\n        })\n        ",
      "text/plain": [
       "<IPython.core.display.Javascript object>"
      ]
     },
     "metadata": {},
     "output_type": "display_data"
    },
    {
     "data": {
      "application/javascript": "\n        // We don't really need these require scripts. But this is to avert\n        //this code from running before display_input_sequence which DOES require external files\n        requirejs(['basic', 'ecco'], function(basic, ecco){\n                console.log('addToken viz_id', 'viz_782187');\n                window.ecco['viz_782187'].addToken({\"token\": \")\", \"is_partial\": true, \"token_id\": 14, \"position\": 109, \"type\": \"output\"})\n                window.ecco['viz_782187'].redraw()\n        })\n        ",
      "text/plain": [
       "<IPython.core.display.Javascript object>"
      ]
     },
     "metadata": {},
     "output_type": "display_data"
    },
    {
     "data": {
      "text/html": [
       "<html lang=\"en\">\n",
       "<script src=\"https://requirejs.org/docs/release/2.3.6/minified/require.js\"></script>\n",
       "<script>\n",
       "    var ecco_url = 'https://storage.googleapis.com/ml-intro/ecco/'\n",
       "    //var ecco_url = 'http://localhost:8000/'\n",
       "\n",
       "    if (window.ecco === undefined) window.ecco = {}\n",
       "\n",
       "    // Setup the paths of the script we'll be using\n",
       "    requirejs.config({\n",
       "        urlArgs: \"bust=\" + (new Date()).getTime(),\n",
       "        nodeRequire: require,\n",
       "        paths: {\n",
       "            d3: \"https://d3js.org/d3.v6.min\", // This is only for use in setup.html and basic.html\n",
       "            \"d3-array\": \"https://d3js.org/d3-array.v2.min\",\n",
       "            jquery: \"https://code.jquery.com/jquery-3.5.1.min\",\n",
       "            ecco: ecco_url + 'js/0.0.6/ecco-bundle.min',\n",
       "            xregexp: 'https://cdnjs.cloudflare.com/ajax/libs/xregexp/3.2.0/xregexp-all.min'\n",
       "        }\n",
       "    });\n",
       "\n",
       "    // Add the css file\n",
       "    //requirejs(['d3'],\n",
       "    //    function (d3) {\n",
       "    //        d3.select('#css').attr('href', ecco_url + 'html/styles.css')\n",
       "    //    })\n",
       "\n",
       "    console.log('Ecco initialize!!')\n",
       "\n",
       "    // returns a 'basic' object. basic.init() selects the html div we'll be\n",
       "    // rendering the html into, adds styles.css to the document.\n",
       "    define('basic', ['d3'],\n",
       "        function (d3) {\n",
       "            return {\n",
       "                init: function (viz_id = null) {\n",
       "                    if (viz_id == null) {\n",
       "                        viz_id = \"viz_\" + Math.round(Math.random() * 10000000)\n",
       "                    }\n",
       "                    // Select the div rendered below, change its id\n",
       "                    const div = d3.select('#basic').attr('id', viz_id),\n",
       "                        div_parent = d3.select('#' + viz_id).node().parentNode\n",
       "\n",
       "                    // Link to CSS file\n",
       "                    d3.select(div_parent).insert('link')\n",
       "                        .attr('rel', 'stylesheet')\n",
       "                        .attr('type', 'text/css')\n",
       "                        .attr('href', ecco_url + 'html/0.0.2/styles.css')\n",
       "\n",
       "                    return viz_id\n",
       "                }\n",
       "            }\n",
       "        }, function (err) {\n",
       "            console.log(err);\n",
       "        }\n",
       "    )\n",
       "</script>\n",
       "\n",
       "<head>\n",
       "    <link id='css' rel=\"stylesheet\" type=\"text/css\">\n",
       "</head>\n",
       "<div id=\"basic\"></div>\n"
      ],
      "text/plain": [
       "<IPython.core.display.HTML object>"
      ]
     },
     "metadata": {},
     "output_type": "display_data"
    },
    {
     "data": {
      "application/javascript": "\n         requirejs(['basic', 'ecco'], function(basic, ecco){\n            const viz_id = basic.init()\n\n            ecco.renderOutputSequence({\n                parentDiv: viz_id,\n                data: {'tokens': [{'token': '▁', 'token_id': 9, 'type': 'input'}, {'token': '吾', 'token_id': 5361, 'type': 'input'}, {'token': '輩', 'token_id': 31082, 'type': 'input'}, {'token': 'は', 'token_id': 11, 'type': 'input'}, {'token': '猫', 'token_id': 4324, 'type': 'input'}, {'token': 'である', 'token_id': 27, 'type': 'input'}, {'token': '。', 'token_id': 8, 'type': 'input'}, {'token': '名前', 'token_id': 1515, 'type': 'input'}, {'token': 'は', 'token_id': 11, 'type': 'input'}, {'token': '</s>', 'token_id': 2, 'type': 'input'}, {'token': '六', 'token_id': 1018, 'type': 'output'}, {'token': '番', 'token_id': 487, 'type': 'output'}, {'token': '犬', 'token_id': 1651, 'type': 'output'}, {'token': '(', 'token_id': 15, 'type': 'output'}, {'token': 'し', 'token_id': 32, 'type': 'output'}, {'token': 'ち', 'token_id': 662, 'type': 'output'}, {'token': 'い', 'token_id': 128, 'type': 'output'}, {'token': 'です', 'token_id': 2767, 'type': 'output'}, {'token': 'すい', 'token_id': 9964, 'type': 'output'}, {'token': 'こ', 'token_id': 315, 'type': 'output'}, {'token': 'じ', 'token_id': 626, 'type': 'output'}, {'token': 'ん', 'token_id': 1260, 'type': 'output'}, {'token': ')', 'token_id': 14, 'type': 'output'}, {'token': 'とは', 'token_id': 208, 'type': 'output'}, {'token': '、', 'token_id': 7, 'type': 'output'}, {'token': '▁', 'token_id': 9, 'type': 'output'}, {'token': '野', 'token_id': 248, 'type': 'output'}, {'token': '良', 'token_id': 856, 'type': 'output'}, {'token': '犬', 'token_id': 1651, 'type': 'output'}, {'token': 'の', 'token_id': 10, 'type': 'output'}, {'token': 'ことを意味し', 'token_id': 23452, 'type': 'output'}, {'token': '、', 'token_id': 7, 'type': 'output'}, {'token': '野', 'token_id': 248, 'type': 'output'}, {'token': '毛', 'token_id': 1280, 'type': 'output'}, {'token': '(', 'token_id': 15, 'type': 'output'}, {'token': 'ろく', 'token_id': 12502, 'type': 'output'}, {'token': 'すい', 'token_id': 9964, 'type': 'output'}, {'token': ')', 'token_id': 14, 'type': 'output'}, {'token': 'と呼ばれる', 'token_id': 384, 'type': 'output'}, {'token': '。', 'token_id': 8, 'type': 'output'}, {'token': '▁', 'token_id': 9, 'type': 'output'}, {'token': '甲', 'token_id': 2386, 'type': 'output'}, {'token': '(', 'token_id': 15, 'type': 'output'}, {'token': 'し', 'token_id': 32, 'type': 'output'}, {'token': 'ち', 'token_id': 662, 'type': 'output'}, {'token': 'が', 'token_id': 12, 'type': 'output'}, {'token': 'が', 'token_id': 12, 'type': 'output'}, {'token': ')', 'token_id': 14, 'type': 'output'}, {'token': '▁(', 'token_id': 119, 'type': 'output'}, {'token': 'し', 'token_id': 32, 'type': 'output'}, {'token': 'ち', 'token_id': 662, 'type': 'output'}, {'token': ')', 'token_id': 14, 'type': 'output'}, {'token': '▁', 'token_id': 9, 'type': 'output'}, {'token': 'とは', 'token_id': 208, 'type': 'output'}, {'token': '「', 'token_id': 23, 'type': 'output'}, {'token': '野', 'token_id': 248, 'type': 'output'}, {'token': 'の', 'token_id': 10, 'type': 'output'}, {'token': '」', 'token_id': 21, 'type': 'output'}, {'token': 'の意味', 'token_id': 3717, 'type': 'output'}, {'token': 'で使われる', 'token_id': 17634, 'type': 'output'}, {'token': '言葉', 'token_id': 2261, 'type': 'output'}, {'token': 'という意味で', 'token_id': 14550, 'type': 'output'}, {'token': '、「', 'token_id': 93, 'type': 'output'}, {'token': '吠', 'token_id': 31107, 'type': 'output'}, {'token': 'え', 'token_id': 635, 'type': 'output'}, {'token': '」', 'token_id': 21, 'type': 'output'}, {'token': 'を意味する', 'token_id': 1964, 'type': 'output'}, {'token': '。', 'token_id': 8, 'type': 'output'}, {'token': '▁「', 'token_id': 235, 'type': 'output'}, {'token': '野', 'token_id': 248, 'type': 'output'}, {'token': 'の', 'token_id': 10, 'type': 'output'}, {'token': '」', 'token_id': 21, 'type': 'output'}, {'token': 'という語', 'token_id': 17302, 'type': 'output'}, {'token': 'は', 'token_id': 11, 'type': 'output'}, {'token': '、', 'token_id': 7, 'type': 'output'}, {'token': '甲', 'token_id': 2386, 'type': 'output'}, {'token': 'によって', 'token_id': 73, 'type': 'output'}, {'token': '言葉', 'token_id': 2261, 'type': 'output'}, {'token': 'が異なる', 'token_id': 4057, 'type': 'output'}, {'token': '。', 'token_id': 8, 'type': 'output'}, {'token': '▁', 'token_id': 9, 'type': 'output'}, {'token': '犬', 'token_id': 1651, 'type': 'output'}, {'token': 'は', 'token_id': 11, 'type': 'output'}, {'token': '、', 'token_id': 7, 'type': 'output'}, {'token': '犬', 'token_id': 1651, 'type': 'output'}, {'token': 'を', 'token_id': 18, 'type': 'output'}, {'token': '口', 'token_id': 424, 'type': 'output'}, {'token': '上', 'token_id': 113, 'type': 'output'}, {'token': 'において', 'token_id': 125, 'type': 'output'}, {'token': '「', 'token_id': 23, 'type': 'output'}, {'token': '寝', 'token_id': 4518, 'type': 'output'}, {'token': 'か', 'token_id': 95, 'type': 'output'}, {'token': 'して', 'token_id': 55, 'type': 'output'}, {'token': 'ご', 'token_id': 913, 'type': 'output'}, {'token': 'ま', 'token_id': 428, 'type': 'output'}, {'token': 'か', 'token_id': 95, 'type': 'output'}, {'token': 'された', 'token_id': 53, 'type': 'output'}, {'token': '」', 'token_id': 21, 'type': 'output'}, {'token': 'ことを意味する', 'token_id': 18437, 'type': 'output'}, {'token': '。', 'token_id': 8, 'type': 'output'}, {'token': '▁', 'token_id': 9, 'type': 'output'}, {'token': '野', 'token_id': 248, 'type': 'output'}, {'token': '毛', 'token_id': 1280, 'type': 'output'}, {'token': '(', 'token_id': 15, 'type': 'output'}, {'token': 'ろく', 'token_id': 12502, 'type': 'output'}, {'token': 'すい', 'token_id': 9964, 'type': 'output'}, {'token': 'こ', 'token_id': 315, 'type': 'output'}, {'token': 'じ', 'token_id': 626, 'type': 'output'}, {'token': 'ん', 'token_id': 1260, 'type': 'output'}, {'token': ')', 'token_id': 14, 'type': 'output'}]},\n                tokenization_config: {\"token_prefix\": \"_\", \"partial_token_prefix\": \"\"}\n            })\n         }, function (err) {\n            console.log(err);\n        })",
      "text/plain": [
       "<IPython.core.display.Javascript object>"
      ]
     },
     "metadata": {},
     "output_type": "display_data"
    },
    {
     "data": {
      "text/html": [
       "<OutputSeq>"
      ],
      "text/plain": [
       "<ecco.output.OutputSeq at 0x7f127659f4f0>"
      ]
     },
     "execution_count": 4,
     "metadata": {},
     "output_type": "execute_result"
    }
   ],
   "source": [
    "(output := ecco_gen(\"吾輩は猫である。名前は\", model=\"rinna/japanese-gpt2-xsmall\", generate=100))"
   ]
  },
  {
   "cell_type": "code",
   "execution_count": null,
   "metadata": {},
   "outputs": [],
   "source": []
  }
 ],
 "metadata": {
  "interpreter": {
   "hash": "a2b06d188e54ecac4ab4fe73a8a010ef0b9e00f7cf249794c189512420a294c4"
  },
  "kernelspec": {
   "display_name": "Python 3.9.10 ('gpt-ecco-sandbox-9TtSrW0h-py3.9')",
   "language": "python",
   "name": "python3"
  },
  "language_info": {
   "codemirror_mode": {
    "name": "ipython",
    "version": 3
   },
   "file_extension": ".py",
   "mimetype": "text/x-python",
   "name": "python",
   "nbconvert_exporter": "python",
   "pygments_lexer": "ipython3",
   "version": "3.9.10"
  },
  "orig_nbformat": 4
 },
 "nbformat": 4,
 "nbformat_minor": 2
}
